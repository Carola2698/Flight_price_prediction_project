{
 "cells": [
  {
   "cell_type": "markdown",
   "id": "c6c06e81",
   "metadata": {
    "id": "oIBvTEezyXFf",
    "papermill": {
     "duration": 0.029319,
     "end_time": "2022-09-13T14:58:35.125075",
     "exception": false,
     "start_time": "2022-09-13T14:58:35.095756",
     "status": "completed"
    },
    "tags": []
   },
   "source": [
    "# Datamining Mini Project: Flight Prices Prediction\n",
    "### Dipartimento di Fisica, UniTo\n",
    "##### Carola Maria Caivano, 867290\n",
    "##### Andrei Stelian Potra, 857665"
   ]
  },
  {
   "cell_type": "markdown",
   "id": "399bbb45",
   "metadata": {
    "papermill": {
     "duration": 0.024025,
     "end_time": "2022-09-13T14:58:35.173392",
     "exception": false,
     "start_time": "2022-09-13T14:58:35.149367",
     "status": "completed"
    },
    "tags": []
   },
   "source": [
    "# Abstract\n",
    "In questo progetto lo scopo è quello di predire i prezzi dei voli aerei utilizzando un dataset relativo a centinaia di migliaia di tragitti di compagnie aeree indiane. Questo dataset è stato utilizzato da un altro team precedentemente per lo stesso scopo utilizzando modelli di machine learning classici ensembled (https://www.kaggle.com/code/julienjta/flight-price-prediction-98-47-r2-score).\n",
    "L'obbiettivo di questo progetto invece è utilizzare una rete neurale fully connected per un task di regressione in modo da poter conseguire uno score migliore di:\n",
    "- $ R^2 = 0.9847 $\n",
    "- $ MAE = 1493 $\n",
    "\n",
    "#### Indice\n",
    "1. Impostazione dei dati\n",
    "2. Studio delle features\n",
    "  - 2.1 Media dei prezzi vs. giorni rimanenti\n",
    "  - 2.2 Media dei prezzi vs. durata del volo\n",
    "  - 2.3 Boxplot sulle Features categoriche\n",
    "3. Preprocessing\n",
    "  - 3.1 One-Hot Encoding\n",
    "  - 3.2 Standard Scaling\n",
    "  - 3.3 Estrazione dei target e conversione in array\n",
    "  - 3.4 Creazione di dataset di training, validazione e di testing\n",
    "4. Fully Connected Neural Network\n",
    "  - 4.1 Run Singola del modello\n",
    "  - 4.2 Risultati sul Test Set\n",
    "  - 4.3 Plot degli score per diverse run singole (diversi iperparametri)\n",
    "  - 4.4 Ottimizzazione automatica con Keras Tuner\n",
    "5. Risultati Finali"
   ]
  },
  {
   "cell_type": "markdown",
   "id": "cdf2bbb7",
   "metadata": {
    "papermill": {
     "duration": 0.023934,
     "end_time": "2022-09-13T14:58:35.221207",
     "exception": false,
     "start_time": "2022-09-13T14:58:35.197273",
     "status": "completed"
    },
    "tags": []
   },
   "source": [
    "# 1. Importazione dei dati\n",
    "I dati a disposizione sono circa 300 mila voli labellati con i rispettivi prezzi. Si è deciso di condurre due studi in parallelo dove in uno si utilizza il dataset completo e in un altro il dataset con solo un terzo dei samples totali. Questo a causa dell'impossibilità di lavorare con risorse RAM sufficienti per tutti i dati sulla piattaforma kaggle dove è stato richiesto di eseguire tutto il notebook senza errori. Invece lo studio con tutti i dati è condotto in locale su un computer che dispone di tutta la RAM necessaria per processare tutti i dati senza errori.  \n",
    "In questo notebook la rete viene addestrata usando perciò solo un terzo dei dati. Invece il modello addestrato su tutti i dati è stato salvato in locale ed è possibile importarlo."
   ]
  },
  {
   "cell_type": "code",
   "execution_count": 1,
   "id": "e6520f20",
   "metadata": {
    "execution": {
     "iopub.execute_input": "2022-09-13T14:58:35.271743Z",
     "iopub.status.busy": "2022-09-13T14:58:35.271153Z",
     "iopub.status.idle": "2022-09-13T14:58:35.886156Z",
     "shell.execute_reply": "2022-09-13T14:58:35.885250Z"
    },
    "papermill": {
     "duration": 0.643022,
     "end_time": "2022-09-13T14:58:35.888470",
     "exception": false,
     "start_time": "2022-09-13T14:58:35.245448",
     "status": "completed"
    },
    "tags": []
   },
   "outputs": [
    {
     "name": "stdout",
     "output_type": "stream",
     "text": [
      "/kaggle/input/test-set-alldata/df_X_test.csv\n",
      "/kaggle/input/test-set-alldata/df_y_test.csv\n",
      "/kaggle/input/flight-price-prediction/business.csv\n",
      "/kaggle/input/flight-price-prediction/economy.csv\n",
      "/kaggle/input/flight-price-prediction/Clean_Dataset.csv\n",
      "/kaggle/input/valori-scores/Valori_score_normal.ods\n",
      "/kaggle/input/valori-scores/Valori_score_lecun_uniform.ods\n",
      "/kaggle/input/valori-scores/Valori_score_uniform.ods\n",
      "/kaggle/input/best-model-full-data/model_lr02_bs2048_reg0.01/saved_model.pb\n",
      "/kaggle/input/best-model-full-data/model_lr02_bs2048_reg0.01/keras_metadata.pb\n",
      "/kaggle/input/best-model-full-data/model_lr02_bs2048_reg0.01/variables/variables.index\n",
      "/kaggle/input/best-model-full-data/model_lr02_bs2048_reg0.01/variables/variables.data-00000-of-00001\n"
     ]
    },
    {
     "data": {
      "text/html": [
       "<div>\n",
       "<style scoped>\n",
       "    .dataframe tbody tr th:only-of-type {\n",
       "        vertical-align: middle;\n",
       "    }\n",
       "\n",
       "    .dataframe tbody tr th {\n",
       "        vertical-align: top;\n",
       "    }\n",
       "\n",
       "    .dataframe thead th {\n",
       "        text-align: right;\n",
       "    }\n",
       "</style>\n",
       "<table border=\"1\" class=\"dataframe\">\n",
       "  <thead>\n",
       "    <tr style=\"text-align: right;\">\n",
       "      <th></th>\n",
       "      <th>Unnamed: 0</th>\n",
       "      <th>airline</th>\n",
       "      <th>flight</th>\n",
       "      <th>source_city</th>\n",
       "      <th>departure_time</th>\n",
       "      <th>stops</th>\n",
       "      <th>arrival_time</th>\n",
       "      <th>destination_city</th>\n",
       "      <th>class</th>\n",
       "      <th>duration</th>\n",
       "      <th>days_left</th>\n",
       "      <th>price</th>\n",
       "    </tr>\n",
       "  </thead>\n",
       "  <tbody>\n",
       "    <tr>\n",
       "      <th>0</th>\n",
       "      <td>0</td>\n",
       "      <td>SpiceJet</td>\n",
       "      <td>SG-8709</td>\n",
       "      <td>Delhi</td>\n",
       "      <td>Evening</td>\n",
       "      <td>zero</td>\n",
       "      <td>Night</td>\n",
       "      <td>Mumbai</td>\n",
       "      <td>Economy</td>\n",
       "      <td>2.17</td>\n",
       "      <td>1</td>\n",
       "      <td>5953</td>\n",
       "    </tr>\n",
       "    <tr>\n",
       "      <th>1</th>\n",
       "      <td>1</td>\n",
       "      <td>SpiceJet</td>\n",
       "      <td>SG-8157</td>\n",
       "      <td>Delhi</td>\n",
       "      <td>Early_Morning</td>\n",
       "      <td>zero</td>\n",
       "      <td>Morning</td>\n",
       "      <td>Mumbai</td>\n",
       "      <td>Economy</td>\n",
       "      <td>2.33</td>\n",
       "      <td>1</td>\n",
       "      <td>5953</td>\n",
       "    </tr>\n",
       "    <tr>\n",
       "      <th>2</th>\n",
       "      <td>2</td>\n",
       "      <td>AirAsia</td>\n",
       "      <td>I5-764</td>\n",
       "      <td>Delhi</td>\n",
       "      <td>Early_Morning</td>\n",
       "      <td>zero</td>\n",
       "      <td>Early_Morning</td>\n",
       "      <td>Mumbai</td>\n",
       "      <td>Economy</td>\n",
       "      <td>2.17</td>\n",
       "      <td>1</td>\n",
       "      <td>5956</td>\n",
       "    </tr>\n",
       "    <tr>\n",
       "      <th>3</th>\n",
       "      <td>3</td>\n",
       "      <td>Vistara</td>\n",
       "      <td>UK-995</td>\n",
       "      <td>Delhi</td>\n",
       "      <td>Morning</td>\n",
       "      <td>zero</td>\n",
       "      <td>Afternoon</td>\n",
       "      <td>Mumbai</td>\n",
       "      <td>Economy</td>\n",
       "      <td>2.25</td>\n",
       "      <td>1</td>\n",
       "      <td>5955</td>\n",
       "    </tr>\n",
       "    <tr>\n",
       "      <th>4</th>\n",
       "      <td>4</td>\n",
       "      <td>Vistara</td>\n",
       "      <td>UK-963</td>\n",
       "      <td>Delhi</td>\n",
       "      <td>Morning</td>\n",
       "      <td>zero</td>\n",
       "      <td>Morning</td>\n",
       "      <td>Mumbai</td>\n",
       "      <td>Economy</td>\n",
       "      <td>2.33</td>\n",
       "      <td>1</td>\n",
       "      <td>5955</td>\n",
       "    </tr>\n",
       "    <tr>\n",
       "      <th>...</th>\n",
       "      <td>...</td>\n",
       "      <td>...</td>\n",
       "      <td>...</td>\n",
       "      <td>...</td>\n",
       "      <td>...</td>\n",
       "      <td>...</td>\n",
       "      <td>...</td>\n",
       "      <td>...</td>\n",
       "      <td>...</td>\n",
       "      <td>...</td>\n",
       "      <td>...</td>\n",
       "      <td>...</td>\n",
       "    </tr>\n",
       "    <tr>\n",
       "      <th>300148</th>\n",
       "      <td>300148</td>\n",
       "      <td>Vistara</td>\n",
       "      <td>UK-822</td>\n",
       "      <td>Chennai</td>\n",
       "      <td>Morning</td>\n",
       "      <td>one</td>\n",
       "      <td>Evening</td>\n",
       "      <td>Hyderabad</td>\n",
       "      <td>Business</td>\n",
       "      <td>10.08</td>\n",
       "      <td>49</td>\n",
       "      <td>69265</td>\n",
       "    </tr>\n",
       "    <tr>\n",
       "      <th>300149</th>\n",
       "      <td>300149</td>\n",
       "      <td>Vistara</td>\n",
       "      <td>UK-826</td>\n",
       "      <td>Chennai</td>\n",
       "      <td>Afternoon</td>\n",
       "      <td>one</td>\n",
       "      <td>Night</td>\n",
       "      <td>Hyderabad</td>\n",
       "      <td>Business</td>\n",
       "      <td>10.42</td>\n",
       "      <td>49</td>\n",
       "      <td>77105</td>\n",
       "    </tr>\n",
       "    <tr>\n",
       "      <th>300150</th>\n",
       "      <td>300150</td>\n",
       "      <td>Vistara</td>\n",
       "      <td>UK-832</td>\n",
       "      <td>Chennai</td>\n",
       "      <td>Early_Morning</td>\n",
       "      <td>one</td>\n",
       "      <td>Night</td>\n",
       "      <td>Hyderabad</td>\n",
       "      <td>Business</td>\n",
       "      <td>13.83</td>\n",
       "      <td>49</td>\n",
       "      <td>79099</td>\n",
       "    </tr>\n",
       "    <tr>\n",
       "      <th>300151</th>\n",
       "      <td>300151</td>\n",
       "      <td>Vistara</td>\n",
       "      <td>UK-828</td>\n",
       "      <td>Chennai</td>\n",
       "      <td>Early_Morning</td>\n",
       "      <td>one</td>\n",
       "      <td>Evening</td>\n",
       "      <td>Hyderabad</td>\n",
       "      <td>Business</td>\n",
       "      <td>10.00</td>\n",
       "      <td>49</td>\n",
       "      <td>81585</td>\n",
       "    </tr>\n",
       "    <tr>\n",
       "      <th>300152</th>\n",
       "      <td>300152</td>\n",
       "      <td>Vistara</td>\n",
       "      <td>UK-822</td>\n",
       "      <td>Chennai</td>\n",
       "      <td>Morning</td>\n",
       "      <td>one</td>\n",
       "      <td>Evening</td>\n",
       "      <td>Hyderabad</td>\n",
       "      <td>Business</td>\n",
       "      <td>10.08</td>\n",
       "      <td>49</td>\n",
       "      <td>81585</td>\n",
       "    </tr>\n",
       "  </tbody>\n",
       "</table>\n",
       "<p>300153 rows × 12 columns</p>\n",
       "</div>"
      ],
      "text/plain": [
       "        Unnamed: 0   airline   flight source_city departure_time stops  \\\n",
       "0                0  SpiceJet  SG-8709       Delhi        Evening  zero   \n",
       "1                1  SpiceJet  SG-8157       Delhi  Early_Morning  zero   \n",
       "2                2   AirAsia   I5-764       Delhi  Early_Morning  zero   \n",
       "3                3   Vistara   UK-995       Delhi        Morning  zero   \n",
       "4                4   Vistara   UK-963       Delhi        Morning  zero   \n",
       "...            ...       ...      ...         ...            ...   ...   \n",
       "300148      300148   Vistara   UK-822     Chennai        Morning   one   \n",
       "300149      300149   Vistara   UK-826     Chennai      Afternoon   one   \n",
       "300150      300150   Vistara   UK-832     Chennai  Early_Morning   one   \n",
       "300151      300151   Vistara   UK-828     Chennai  Early_Morning   one   \n",
       "300152      300152   Vistara   UK-822     Chennai        Morning   one   \n",
       "\n",
       "         arrival_time destination_city     class  duration  days_left  price  \n",
       "0               Night           Mumbai   Economy      2.17          1   5953  \n",
       "1             Morning           Mumbai   Economy      2.33          1   5953  \n",
       "2       Early_Morning           Mumbai   Economy      2.17          1   5956  \n",
       "3           Afternoon           Mumbai   Economy      2.25          1   5955  \n",
       "4             Morning           Mumbai   Economy      2.33          1   5955  \n",
       "...               ...              ...       ...       ...        ...    ...  \n",
       "300148        Evening        Hyderabad  Business     10.08         49  69265  \n",
       "300149          Night        Hyderabad  Business     10.42         49  77105  \n",
       "300150          Night        Hyderabad  Business     13.83         49  79099  \n",
       "300151        Evening        Hyderabad  Business     10.00         49  81585  \n",
       "300152        Evening        Hyderabad  Business     10.08         49  81585  \n",
       "\n",
       "[300153 rows x 12 columns]"
      ]
     },
     "metadata": {},
     "output_type": "display_data"
    }
   ],
   "source": [
    "import os\n",
    "for dirname, _, filenames in os.walk('/kaggle/input'):\n",
    "    for filename in filenames:\n",
    "        print(os.path.join(dirname, filename))\n",
    "\n",
    "import pandas as pd\n",
    "import numpy as np\n",
    "\n",
    "# importing data and visualizing with pandas\n",
    "data = pd.read_csv('../input/flight-price-prediction/Clean_Dataset.csv', encoding='utf8')\n",
    "display(data)"
   ]
  },
  {
   "cell_type": "code",
   "execution_count": 2,
   "id": "08bfd47a",
   "metadata": {
    "execution": {
     "iopub.execute_input": "2022-09-13T14:58:35.922259Z",
     "iopub.status.busy": "2022-09-13T14:58:35.921261Z",
     "iopub.status.idle": "2022-09-13T14:58:37.094573Z",
     "shell.execute_reply": "2022-09-13T14:58:37.093423Z"
    },
    "papermill": {
     "duration": 1.192657,
     "end_time": "2022-09-13T14:58:37.097506",
     "exception": false,
     "start_time": "2022-09-13T14:58:35.904849",
     "status": "completed"
    },
    "tags": []
   },
   "outputs": [],
   "source": [
    "from sklearn.utils import shuffle # for shuffling samples\n",
    "df_shuffled = shuffle(data)\n",
    "\n",
    "# number of rows to drop\n",
    "n = 200000\n",
    " \n",
    "# dropping last n rows using drop\n",
    "df_shuffled.drop(df_shuffled.tail(n).index, inplace = True)"
   ]
  },
  {
   "cell_type": "code",
   "execution_count": 3,
   "id": "1fc89fe5",
   "metadata": {
    "execution": {
     "iopub.execute_input": "2022-09-13T14:58:37.134959Z",
     "iopub.status.busy": "2022-09-13T14:58:37.134548Z",
     "iopub.status.idle": "2022-09-13T14:58:37.167619Z",
     "shell.execute_reply": "2022-09-13T14:58:37.166544Z"
    },
    "papermill": {
     "duration": 0.053886,
     "end_time": "2022-09-13T14:58:37.170041",
     "exception": false,
     "start_time": "2022-09-13T14:58:37.116155",
     "status": "completed"
    },
    "tags": []
   },
   "outputs": [
    {
     "data": {
      "text/html": [
       "<div>\n",
       "<style scoped>\n",
       "    .dataframe tbody tr th:only-of-type {\n",
       "        vertical-align: middle;\n",
       "    }\n",
       "\n",
       "    .dataframe tbody tr th {\n",
       "        vertical-align: top;\n",
       "    }\n",
       "\n",
       "    .dataframe thead th {\n",
       "        text-align: right;\n",
       "    }\n",
       "</style>\n",
       "<table border=\"1\" class=\"dataframe\">\n",
       "  <thead>\n",
       "    <tr style=\"text-align: right;\">\n",
       "      <th></th>\n",
       "      <th>airline</th>\n",
       "      <th>flight</th>\n",
       "      <th>source_city</th>\n",
       "      <th>departure_time</th>\n",
       "      <th>stops</th>\n",
       "      <th>arrival_time</th>\n",
       "      <th>destination_city</th>\n",
       "      <th>class</th>\n",
       "      <th>duration</th>\n",
       "      <th>days_left</th>\n",
       "      <th>price</th>\n",
       "    </tr>\n",
       "  </thead>\n",
       "  <tbody>\n",
       "    <tr>\n",
       "      <th>133618</th>\n",
       "      <td>Vistara</td>\n",
       "      <td>UK-778</td>\n",
       "      <td>Kolkata</td>\n",
       "      <td>Afternoon</td>\n",
       "      <td>one</td>\n",
       "      <td>Night</td>\n",
       "      <td>Mumbai</td>\n",
       "      <td>Economy</td>\n",
       "      <td>6.67</td>\n",
       "      <td>38</td>\n",
       "      <td>6731</td>\n",
       "    </tr>\n",
       "    <tr>\n",
       "      <th>32139</th>\n",
       "      <td>GO_FIRST</td>\n",
       "      <td>G8-119</td>\n",
       "      <td>Delhi</td>\n",
       "      <td>Evening</td>\n",
       "      <td>one</td>\n",
       "      <td>Morning</td>\n",
       "      <td>Hyderabad</td>\n",
       "      <td>Economy</td>\n",
       "      <td>13.83</td>\n",
       "      <td>27</td>\n",
       "      <td>5657</td>\n",
       "    </tr>\n",
       "    <tr>\n",
       "      <th>126172</th>\n",
       "      <td>Indigo</td>\n",
       "      <td>6E-6021</td>\n",
       "      <td>Kolkata</td>\n",
       "      <td>Afternoon</td>\n",
       "      <td>one</td>\n",
       "      <td>Evening</td>\n",
       "      <td>Delhi</td>\n",
       "      <td>Economy</td>\n",
       "      <td>6.00</td>\n",
       "      <td>42</td>\n",
       "      <td>2994</td>\n",
       "    </tr>\n",
       "    <tr>\n",
       "      <th>4170</th>\n",
       "      <td>Vistara</td>\n",
       "      <td>UK-813</td>\n",
       "      <td>Delhi</td>\n",
       "      <td>Evening</td>\n",
       "      <td>one</td>\n",
       "      <td>Night</td>\n",
       "      <td>Mumbai</td>\n",
       "      <td>Economy</td>\n",
       "      <td>5.83</td>\n",
       "      <td>22</td>\n",
       "      <td>6296</td>\n",
       "    </tr>\n",
       "    <tr>\n",
       "      <th>218547</th>\n",
       "      <td>Vistara</td>\n",
       "      <td>UK-981</td>\n",
       "      <td>Delhi</td>\n",
       "      <td>Night</td>\n",
       "      <td>one</td>\n",
       "      <td>Evening</td>\n",
       "      <td>Kolkata</td>\n",
       "      <td>Business</td>\n",
       "      <td>19.17</td>\n",
       "      <td>41</td>\n",
       "      <td>65529</td>\n",
       "    </tr>\n",
       "    <tr>\n",
       "      <th>...</th>\n",
       "      <td>...</td>\n",
       "      <td>...</td>\n",
       "      <td>...</td>\n",
       "      <td>...</td>\n",
       "      <td>...</td>\n",
       "      <td>...</td>\n",
       "      <td>...</td>\n",
       "      <td>...</td>\n",
       "      <td>...</td>\n",
       "      <td>...</td>\n",
       "      <td>...</td>\n",
       "    </tr>\n",
       "    <tr>\n",
       "      <th>205006</th>\n",
       "      <td>AirAsia</td>\n",
       "      <td>I5-517</td>\n",
       "      <td>Chennai</td>\n",
       "      <td>Morning</td>\n",
       "      <td>zero</td>\n",
       "      <td>Morning</td>\n",
       "      <td>Hyderabad</td>\n",
       "      <td>Economy</td>\n",
       "      <td>1.17</td>\n",
       "      <td>31</td>\n",
       "      <td>1105</td>\n",
       "    </tr>\n",
       "    <tr>\n",
       "      <th>58085</th>\n",
       "      <td>AirAsia</td>\n",
       "      <td>I5-336</td>\n",
       "      <td>Mumbai</td>\n",
       "      <td>Night</td>\n",
       "      <td>zero</td>\n",
       "      <td>Night</td>\n",
       "      <td>Bangalore</td>\n",
       "      <td>Economy</td>\n",
       "      <td>1.92</td>\n",
       "      <td>31</td>\n",
       "      <td>2124</td>\n",
       "    </tr>\n",
       "    <tr>\n",
       "      <th>155849</th>\n",
       "      <td>Indigo</td>\n",
       "      <td>6E-913</td>\n",
       "      <td>Hyderabad</td>\n",
       "      <td>Morning</td>\n",
       "      <td>one</td>\n",
       "      <td>Night</td>\n",
       "      <td>Delhi</td>\n",
       "      <td>Economy</td>\n",
       "      <td>11.00</td>\n",
       "      <td>29</td>\n",
       "      <td>6133</td>\n",
       "    </tr>\n",
       "    <tr>\n",
       "      <th>144552</th>\n",
       "      <td>Indigo</td>\n",
       "      <td>6E-379</td>\n",
       "      <td>Kolkata</td>\n",
       "      <td>Early_Morning</td>\n",
       "      <td>one</td>\n",
       "      <td>Morning</td>\n",
       "      <td>Hyderabad</td>\n",
       "      <td>Economy</td>\n",
       "      <td>5.25</td>\n",
       "      <td>20</td>\n",
       "      <td>5699</td>\n",
       "    </tr>\n",
       "    <tr>\n",
       "      <th>87234</th>\n",
       "      <td>Air_India</td>\n",
       "      <td>AI-516</td>\n",
       "      <td>Bangalore</td>\n",
       "      <td>Early_Morning</td>\n",
       "      <td>one</td>\n",
       "      <td>Evening</td>\n",
       "      <td>Delhi</td>\n",
       "      <td>Economy</td>\n",
       "      <td>10.92</td>\n",
       "      <td>18</td>\n",
       "      <td>3674</td>\n",
       "    </tr>\n",
       "  </tbody>\n",
       "</table>\n",
       "<p>100153 rows × 11 columns</p>\n",
       "</div>"
      ],
      "text/plain": [
       "          airline   flight source_city departure_time stops arrival_time  \\\n",
       "133618    Vistara   UK-778     Kolkata      Afternoon   one        Night   \n",
       "32139    GO_FIRST   G8-119       Delhi        Evening   one      Morning   \n",
       "126172     Indigo  6E-6021     Kolkata      Afternoon   one      Evening   \n",
       "4170      Vistara   UK-813       Delhi        Evening   one        Night   \n",
       "218547    Vistara   UK-981       Delhi          Night   one      Evening   \n",
       "...           ...      ...         ...            ...   ...          ...   \n",
       "205006    AirAsia   I5-517     Chennai        Morning  zero      Morning   \n",
       "58085     AirAsia   I5-336      Mumbai          Night  zero        Night   \n",
       "155849     Indigo   6E-913   Hyderabad        Morning   one        Night   \n",
       "144552     Indigo   6E-379     Kolkata  Early_Morning   one      Morning   \n",
       "87234   Air_India   AI-516   Bangalore  Early_Morning   one      Evening   \n",
       "\n",
       "       destination_city     class  duration  days_left  price  \n",
       "133618           Mumbai   Economy      6.67         38   6731  \n",
       "32139         Hyderabad   Economy     13.83         27   5657  \n",
       "126172            Delhi   Economy      6.00         42   2994  \n",
       "4170             Mumbai   Economy      5.83         22   6296  \n",
       "218547          Kolkata  Business     19.17         41  65529  \n",
       "...                 ...       ...       ...        ...    ...  \n",
       "205006        Hyderabad   Economy      1.17         31   1105  \n",
       "58085         Bangalore   Economy      1.92         31   2124  \n",
       "155849            Delhi   Economy     11.00         29   6133  \n",
       "144552        Hyderabad   Economy      5.25         20   5699  \n",
       "87234             Delhi   Economy     10.92         18   3674  \n",
       "\n",
       "[100153 rows x 11 columns]"
      ]
     },
     "metadata": {},
     "output_type": "display_data"
    }
   ],
   "source": [
    "data = df_shuffled\n",
    "#delete first column\n",
    "data=data.drop(columns=['Unnamed: 0'])\n",
    "display(data)"
   ]
  },
  {
   "cell_type": "code",
   "execution_count": 4,
   "id": "083ffbbb",
   "metadata": {
    "execution": {
     "iopub.execute_input": "2022-09-13T14:58:37.203968Z",
     "iopub.status.busy": "2022-09-13T14:58:37.203678Z",
     "iopub.status.idle": "2022-09-13T14:58:37.348420Z",
     "shell.execute_reply": "2022-09-13T14:58:37.347470Z"
    },
    "executionInfo": {
     "elapsed": 2658,
     "status": "ok",
     "timestamp": 1658761150133,
     "user": {
      "displayName": "Carola Maria Caivano",
      "userId": "01625777968997829192"
     },
     "user_tz": -120
    },
    "id": "IDqfCC8qyXFg",
    "outputId": "0b4b7b4e-c199-40c2-8181-1812d61ce959",
    "papermill": {
     "duration": 0.164811,
     "end_time": "2022-09-13T14:58:37.350911",
     "exception": false,
     "start_time": "2022-09-13T14:58:37.186100",
     "status": "completed"
    },
    "tags": []
   },
   "outputs": [],
   "source": [
    "# importing data and visualizing with pandas\n",
    "import pandas as pd\n",
    "import numpy as np\n",
    "import matplotlib.pyplot as plt\n",
    "import seaborn as sns"
   ]
  },
  {
   "cell_type": "markdown",
   "id": "b7c6a963",
   "metadata": {
    "id": "cjOQPQEc17eN",
    "papermill": {
     "duration": 0.015773,
     "end_time": "2022-09-13T14:58:37.383004",
     "exception": false,
     "start_time": "2022-09-13T14:58:37.367231",
     "status": "completed"
    },
    "tags": []
   },
   "source": [
    "# 2. Studio delle Features\n",
    "In questa sezione si vuole vedere quali features influenzano maggiormente il prezzo dei voli. Infatti si possono presentare delle features che singolarmente non hanno potere predittivo sul valore dei prezzi.\n",
    "\n",
    "### 2.1 Media dei prezzi vs. giorni rimanenti"
   ]
  },
  {
   "cell_type": "code",
   "execution_count": 5,
   "id": "3cff0290",
   "metadata": {
    "execution": {
     "iopub.execute_input": "2022-09-13T14:58:37.416237Z",
     "iopub.status.busy": "2022-09-13T14:58:37.415896Z",
     "iopub.status.idle": "2022-09-13T14:58:37.699987Z",
     "shell.execute_reply": "2022-09-13T14:58:37.699072Z"
    },
    "executionInfo": {
     "elapsed": 356,
     "status": "ok",
     "timestamp": 1658761152262,
     "user": {
      "displayName": "Carola Maria Caivano",
      "userId": "01625777968997829192"
     },
     "user_tz": -120
    },
    "id": "Exykk76ksluZ",
    "outputId": "3ab534ae-fd26-44be-cfa2-194ffb40cb65",
    "papermill": {
     "duration": 0.303086,
     "end_time": "2022-09-13T14:58:37.702017",
     "exception": false,
     "start_time": "2022-09-13T14:58:37.398931",
     "status": "completed"
    },
    "tags": []
   },
   "outputs": [
    {
     "data": {
      "image/png": "[encoded data removed]",
      "text/plain": [
       "<Figure size 936x432 with 1 Axes>"
      ]
     },
     "metadata": {},
     "output_type": "display_data"
    }
   ],
   "source": [
    "sns.set_style(\"whitegrid\")\n",
    "df_temp = data.groupby(['days_left'])['price'].mean().reset_index()\n",
    "\n",
    "plt.figure(figsize=(13,6))\n",
    "ax = sns.scatterplot(x=\"days_left\", y=\"price\", data=df_temp).set_title(\"Average prizes depending on the days left\",fontsize=15)"
   ]
  },
  {
   "cell_type": "markdown",
   "id": "55cdbba2",
   "metadata": {
    "papermill": {
     "duration": 0.016599,
     "end_time": "2022-09-13T14:58:37.735124",
     "exception": false,
     "start_time": "2022-09-13T14:58:37.718525",
     "status": "completed"
    },
    "tags": []
   },
   "source": [
    "È possibile osservare che il numero di giorni rimanenti alla partenza influenzi il prezzo, in particolare quando la data della partenza si avvicina i prezzi aumentano. Invece prima dei 20 giorni rimanenti la media dei prezzi ha una piccola variazione.  \n",
    "Quindi la feature days_left ha sicuramente un'importanza nella predizione."
   ]
  },
  {
   "cell_type": "markdown",
   "id": "9a57fece",
   "metadata": {
    "papermill": {
     "duration": 0.015986,
     "end_time": "2022-09-13T14:58:37.767738",
     "exception": false,
     "start_time": "2022-09-13T14:58:37.751752",
     "status": "completed"
    },
    "tags": []
   },
   "source": [
    "### 2.2 Media dei prezzi vs. durata del volo"
   ]
  },
  {
   "cell_type": "code",
   "execution_count": 6,
   "id": "3d84f5b5",
   "metadata": {
    "execution": {
     "iopub.execute_input": "2022-09-13T14:58:37.801894Z",
     "iopub.status.busy": "2022-09-13T14:58:37.801556Z",
     "iopub.status.idle": "2022-09-13T14:58:38.056322Z",
     "shell.execute_reply": "2022-09-13T14:58:38.055394Z"
    },
    "executionInfo": {
     "elapsed": 585,
     "status": "ok",
     "timestamp": 1658761154725,
     "user": {
      "displayName": "Carola Maria Caivano",
      "userId": "01625777968997829192"
     },
     "user_tz": -120
    },
    "id": "ZU63FVcFyp41",
    "outputId": "0b9585e6-521d-496a-fb62-4b86c840e902",
    "papermill": {
     "duration": 0.274794,
     "end_time": "2022-09-13T14:58:38.058603",
     "exception": false,
     "start_time": "2022-09-13T14:58:37.783809",
     "status": "completed"
    },
    "tags": []
   },
   "outputs": [
    {
     "data": {
      "image/png": "[encoded data removed]",
      "text/plain": [
       "<Figure size 936x432 with 1 Axes>"
      ]
     },
     "metadata": {},
     "output_type": "display_data"
    }
   ],
   "source": [
    "sns.set_style(\"whitegrid\")\n",
    "\n",
    "df_temp = data.groupby(['duration'])['price'].mean().reset_index()\n",
    "\n",
    "plt.figure(figsize=(13,6))\n",
    "ax = sns.scatterplot(x=\"duration\", y=\"price\", data=df_temp).set_title(\"Average prizes depending on the duration\",fontsize=15)"
   ]
  },
  {
   "cell_type": "markdown",
   "id": "f501a5e2",
   "metadata": {
    "papermill": {
     "duration": 0.016911,
     "end_time": "2022-09-13T14:58:38.093365",
     "exception": false,
     "start_time": "2022-09-13T14:58:38.076454",
     "status": "completed"
    },
    "tags": []
   },
   "source": [
    "Anche la durata del volo è una feature influente sul valore del prezzo."
   ]
  },
  {
   "cell_type": "markdown",
   "id": "a0c06f51",
   "metadata": {
    "papermill": {
     "duration": 0.016616,
     "end_time": "2022-09-13T14:58:38.126839",
     "exception": false,
     "start_time": "2022-09-13T14:58:38.110223",
     "status": "completed"
    },
    "tags": []
   },
   "source": [
    "## 2.3 Boxplot sulle Features categoriche\n",
    "Per quanto riguarda le features categoriche, come per esempio la linea di volo, oppure la città di partenza, si possono realizzare dei boxplot per vedere la distribuzione dei prezzi e in base a quello riconoscere la presenza di un trend."
   ]
  },
  {
   "cell_type": "code",
   "execution_count": 7,
   "id": "f90c1486",
   "metadata": {
    "execution": {
     "iopub.execute_input": "2022-09-13T14:58:38.163153Z",
     "iopub.status.busy": "2022-09-13T14:58:38.162478Z",
     "iopub.status.idle": "2022-09-13T14:58:39.729742Z",
     "shell.execute_reply": "2022-09-13T14:58:39.728707Z"
    },
    "executionInfo": {
     "elapsed": 4418,
     "status": "ok",
     "timestamp": 1658761159140,
     "user": {
      "displayName": "Carola Maria Caivano",
      "userId": "01625777968997829192"
     },
     "user_tz": -120
    },
    "id": "E_x3_auljP1a",
    "outputId": "52f18633-ca93-4d52-bdfe-bf34317284ca",
    "papermill": {
     "duration": 1.58949,
     "end_time": "2022-09-13T14:58:39.733024",
     "exception": false,
     "start_time": "2022-09-13T14:58:38.143534",
     "status": "completed"
    },
    "tags": []
   },
   "outputs": [
    {
     "data": {
      "text/plain": [
       "Text(0.5, 1.0, 'Airline prices based on the destination_city')"
      ]
     },
     "execution_count": 7,
     "metadata": {},
     "output_type": "execute_result"
    },
    {
     "data": {
      "image/png": "[encoded data removed]",
      "text/plain": [
       "<Figure size 2160x1080 with 6 Axes>"
      ]
     },
     "metadata": {},
     "output_type": "display_data"
    }
   ],
   "source": [
    "plt.figure(figsize=(30,15))\n",
    "\n",
    "sns.set_style(\"white\")\n",
    "plt.subplot(2,3,1)\n",
    "sns.boxplot(data=data, y=data['price'], x=data['airline'],showfliers=False).set_title(\"Airline prices based on the airline\",fontsize=15)\n",
    "\n",
    "sns.set_style(\"white\")\n",
    "plt.subplot(2,3,2)\n",
    "sns.boxplot(data=data, y=data['price'], x=data['source_city'],showfliers=False).set_title(\"Airline prices based on the source_city\",fontsize=15)\n",
    "\n",
    "sns.set_style(\"white\")\n",
    "plt.subplot(2,3,3)\n",
    "sns.boxplot(data=data, y=data['price'], x=data['departure_time'],showfliers=False).set_title(\"Airline prices based on the departure_time\",fontsize=15)\n",
    "\n",
    "sns.set_style(\"white\")\n",
    "plt.subplot(2,3,4)\n",
    "sns.boxplot(data=data, y=data['price'], x=data['stops'],showfliers=False).set_title(\"Airline prices based on the stops\",fontsize=15)\n",
    "\n",
    "sns.set_style(\"white\")\n",
    "plt.subplot(2,3,5)\n",
    "sns.boxplot(data=data, y=data['price'], x=data['arrival_time'],showfliers=False).set_title(\"Airline prices based on the arrival_time\",fontsize=15)\n",
    "\n",
    "sns.set_style(\"white\")\n",
    "plt.subplot(2,3,6)\n",
    "sns.boxplot(data=data, y=data['price'], x=data['destination_city'],showfliers=False).set_title(\"Airline prices based on the destination_city\",fontsize=15)"
   ]
  },
  {
   "cell_type": "markdown",
   "id": "62d918df",
   "metadata": {
    "papermill": {
     "duration": 0.018352,
     "end_time": "2022-09-13T14:58:39.770978",
     "exception": false,
     "start_time": "2022-09-13T14:58:39.752626",
     "status": "completed"
    },
    "tags": []
   },
   "source": [
    "La feature airline (compagnia aerea) presenta due categorie con una distribuzione di prezzi molto più ampia delle altre poichè tali compagnie offrono la possibilità di comprare il biglietto in classe business.  \n",
    "Le due features source_city e destination_city invece hanno i body dei boxplot con distribuzione quasi uniforme.  \n",
    "Per quanto riguarda departure_time e arrival_time si osserva che alcune categorie danno una più ampia variabilità di prezzi possibili rispetto ad altre, per esempio i voli che partono in tarda notte hanno dei prezzi significativamente più bassi rispetto alle altre categorie.  \n",
    "Anche gli stops influiscono, prendendo un volo con zero cambi il prezzo è minore rispetto ad un tragitto con un cambio."
   ]
  },
  {
   "cell_type": "markdown",
   "id": "23e1cbe6",
   "metadata": {
    "id": "Ccrg-B63yXFk",
    "papermill": {
     "duration": 0.017952,
     "end_time": "2022-09-13T14:58:39.806892",
     "exception": false,
     "start_time": "2022-09-13T14:58:39.788940",
     "status": "completed"
    },
    "tags": []
   },
   "source": [
    "# 3. Preprocessing\n",
    "Il preprocessing di questo dataset è consistito nel one-hot encoding su tutte le features categoriche e in uno standard scaling delle features numeriche (days_left e duration).\n",
    "### 3.1 One-Hot Encoding"
   ]
  },
  {
   "cell_type": "code",
   "execution_count": 8,
   "id": "cd123b36",
   "metadata": {
    "execution": {
     "iopub.execute_input": "2022-09-13T14:58:39.844731Z",
     "iopub.status.busy": "2022-09-13T14:58:39.844388Z",
     "iopub.status.idle": "2022-09-13T14:58:39.903045Z",
     "shell.execute_reply": "2022-09-13T14:58:39.901240Z"
    },
    "executionInfo": {
     "elapsed": 365,
     "status": "ok",
     "timestamp": 1658761159496,
     "user": {
      "displayName": "Carola Maria Caivano",
      "userId": "01625777968997829192"
     },
     "user_tz": -120
    },
    "id": "peOB2dvFyXFk",
    "outputId": "d6645bc8-2d9b-4946-e9a5-7dd19df383ed",
    "papermill": {
     "duration": 0.080743,
     "end_time": "2022-09-13T14:58:39.905740",
     "exception": false,
     "start_time": "2022-09-13T14:58:39.824997",
     "status": "completed"
    },
    "tags": []
   },
   "outputs": [
    {
     "name": "stdout",
     "output_type": "stream",
     "text": [
      "['Kolkata' 'Delhi' 'Chennai' 'Mumbai' 'Bangalore' 'Hyderabad']\n",
      "['Vistara' 'GO_FIRST' 'Indigo' 'Air_India' 'AirAsia' 'SpiceJet']\n",
      "['UK-778' 'G8-119' '6E-6021' ... 'SG-1058' '6E-864' '6E-488']\n",
      "['Afternoon' 'Evening' 'Night' 'Early_Morning' 'Morning' 'Late_Night']\n",
      "['one' 'two_or_more' 'zero']\n",
      "['Night' 'Morning' 'Evening' 'Early_Morning' 'Afternoon' 'Late_Night']\n",
      "['Mumbai' 'Hyderabad' 'Delhi' 'Kolkata' 'Bangalore' 'Chennai']\n",
      "['Economy' 'Business']\n"
     ]
    }
   ],
   "source": [
    "print(data['source_city'].unique()) #città da cui partono gli aerei\n",
    "print(data['airline'].unique())\n",
    "print(data['flight'].unique())\n",
    "print(data['departure_time'].unique())\n",
    "print(data['stops'].unique())\n",
    "print(data['arrival_time'].unique())\n",
    "print(data['destination_city'].unique())\n",
    "print(data['class'].unique())"
   ]
  },
  {
   "cell_type": "code",
   "execution_count": 9,
   "id": "8201963a",
   "metadata": {
    "execution": {
     "iopub.execute_input": "2022-09-13T14:58:39.944773Z",
     "iopub.status.busy": "2022-09-13T14:58:39.944461Z",
     "iopub.status.idle": "2022-09-13T14:58:40.695620Z",
     "shell.execute_reply": "2022-09-13T14:58:40.694648Z"
    },
    "executionInfo": {
     "elapsed": 4543,
     "status": "ok",
     "timestamp": 1658761164038,
     "user": {
      "displayName": "Carola Maria Caivano",
      "userId": "01625777968997829192"
     },
     "user_tz": -120
    },
    "id": "_tIphy7lyXFl",
    "papermill": {
     "duration": 0.773637,
     "end_time": "2022-09-13T14:58:40.698001",
     "exception": false,
     "start_time": "2022-09-13T14:58:39.924364",
     "status": "completed"
    },
    "tags": []
   },
   "outputs": [],
   "source": [
    "# riconosce il numero di categorie uniche presenti e fa one-hot encoding\n",
    "dummy_source_city = pd.get_dummies(data['source_city'])\n",
    "dummy_airline = pd.get_dummies(data['airline'])\n",
    "dummy_flight = pd.get_dummies(data['flight'])\n",
    "dummy_departure_time = pd.get_dummies(data['departure_time'])\n",
    "dummy_stops = pd.get_dummies(data['stops'])\n",
    "dummy_arrival_time = pd.get_dummies(data['arrival_time'])\n",
    "dummy_destination_city = pd.get_dummies(data['destination_city'])\n",
    "dummy_class = pd.get_dummies(data['class'])"
   ]
  },
  {
   "cell_type": "code",
   "execution_count": 10,
   "id": "f9709f4d",
   "metadata": {
    "execution": {
     "iopub.execute_input": "2022-09-13T14:58:40.737027Z",
     "iopub.status.busy": "2022-09-13T14:58:40.736127Z",
     "iopub.status.idle": "2022-09-13T14:58:40.747940Z",
     "shell.execute_reply": "2022-09-13T14:58:40.747032Z"
    },
    "papermill": {
     "duration": 0.033443,
     "end_time": "2022-09-13T14:58:40.750139",
     "exception": false,
     "start_time": "2022-09-13T14:58:40.716696",
     "status": "completed"
    },
    "tags": []
   },
   "outputs": [
    {
     "data": {
      "text/html": [
       "<div>\n",
       "<style scoped>\n",
       "    .dataframe tbody tr th:only-of-type {\n",
       "        vertical-align: middle;\n",
       "    }\n",
       "\n",
       "    .dataframe tbody tr th {\n",
       "        vertical-align: top;\n",
       "    }\n",
       "\n",
       "    .dataframe thead th {\n",
       "        text-align: right;\n",
       "    }\n",
       "</style>\n",
       "<table border=\"1\" class=\"dataframe\">\n",
       "  <thead>\n",
       "    <tr style=\"text-align: right;\">\n",
       "      <th></th>\n",
       "      <th>Bangalore</th>\n",
       "      <th>Chennai</th>\n",
       "      <th>Delhi</th>\n",
       "      <th>Hyderabad</th>\n",
       "      <th>Kolkata</th>\n",
       "      <th>Mumbai</th>\n",
       "    </tr>\n",
       "  </thead>\n",
       "  <tbody>\n",
       "    <tr>\n",
       "      <th>145748</th>\n",
       "      <td>0</td>\n",
       "      <td>0</td>\n",
       "      <td>0</td>\n",
       "      <td>0</td>\n",
       "      <td>1</td>\n",
       "      <td>0</td>\n",
       "    </tr>\n",
       "    <tr>\n",
       "      <th>175011</th>\n",
       "      <td>0</td>\n",
       "      <td>0</td>\n",
       "      <td>0</td>\n",
       "      <td>1</td>\n",
       "      <td>0</td>\n",
       "      <td>0</td>\n",
       "    </tr>\n",
       "    <tr>\n",
       "      <th>19797</th>\n",
       "      <td>0</td>\n",
       "      <td>0</td>\n",
       "      <td>1</td>\n",
       "      <td>0</td>\n",
       "      <td>0</td>\n",
       "      <td>0</td>\n",
       "    </tr>\n",
       "    <tr>\n",
       "      <th>110327</th>\n",
       "      <td>1</td>\n",
       "      <td>0</td>\n",
       "      <td>0</td>\n",
       "      <td>0</td>\n",
       "      <td>0</td>\n",
       "      <td>0</td>\n",
       "    </tr>\n",
       "    <tr>\n",
       "      <th>125847</th>\n",
       "      <td>0</td>\n",
       "      <td>0</td>\n",
       "      <td>0</td>\n",
       "      <td>0</td>\n",
       "      <td>1</td>\n",
       "      <td>0</td>\n",
       "    </tr>\n",
       "    <tr>\n",
       "      <th>282963</th>\n",
       "      <td>0</td>\n",
       "      <td>0</td>\n",
       "      <td>0</td>\n",
       "      <td>1</td>\n",
       "      <td>0</td>\n",
       "      <td>0</td>\n",
       "    </tr>\n",
       "    <tr>\n",
       "      <th>36776</th>\n",
       "      <td>0</td>\n",
       "      <td>0</td>\n",
       "      <td>1</td>\n",
       "      <td>0</td>\n",
       "      <td>0</td>\n",
       "      <td>0</td>\n",
       "    </tr>\n",
       "    <tr>\n",
       "      <th>291244</th>\n",
       "      <td>0</td>\n",
       "      <td>1</td>\n",
       "      <td>0</td>\n",
       "      <td>0</td>\n",
       "      <td>0</td>\n",
       "      <td>0</td>\n",
       "    </tr>\n",
       "    <tr>\n",
       "      <th>48497</th>\n",
       "      <td>0</td>\n",
       "      <td>0</td>\n",
       "      <td>0</td>\n",
       "      <td>0</td>\n",
       "      <td>0</td>\n",
       "      <td>1</td>\n",
       "    </tr>\n",
       "    <tr>\n",
       "      <th>120701</th>\n",
       "      <td>0</td>\n",
       "      <td>0</td>\n",
       "      <td>0</td>\n",
       "      <td>0</td>\n",
       "      <td>1</td>\n",
       "      <td>0</td>\n",
       "    </tr>\n",
       "    <tr>\n",
       "      <th>259601</th>\n",
       "      <td>1</td>\n",
       "      <td>0</td>\n",
       "      <td>0</td>\n",
       "      <td>0</td>\n",
       "      <td>0</td>\n",
       "      <td>0</td>\n",
       "    </tr>\n",
       "    <tr>\n",
       "      <th>238171</th>\n",
       "      <td>0</td>\n",
       "      <td>0</td>\n",
       "      <td>0</td>\n",
       "      <td>0</td>\n",
       "      <td>0</td>\n",
       "      <td>1</td>\n",
       "    </tr>\n",
       "    <tr>\n",
       "      <th>48728</th>\n",
       "      <td>0</td>\n",
       "      <td>0</td>\n",
       "      <td>0</td>\n",
       "      <td>0</td>\n",
       "      <td>0</td>\n",
       "      <td>1</td>\n",
       "    </tr>\n",
       "    <tr>\n",
       "      <th>88919</th>\n",
       "      <td>1</td>\n",
       "      <td>0</td>\n",
       "      <td>0</td>\n",
       "      <td>0</td>\n",
       "      <td>0</td>\n",
       "      <td>0</td>\n",
       "    </tr>\n",
       "    <tr>\n",
       "      <th>99323</th>\n",
       "      <td>1</td>\n",
       "      <td>0</td>\n",
       "      <td>0</td>\n",
       "      <td>0</td>\n",
       "      <td>0</td>\n",
       "      <td>0</td>\n",
       "    </tr>\n",
       "  </tbody>\n",
       "</table>\n",
       "</div>"
      ],
      "text/plain": [
       "        Bangalore  Chennai  Delhi  Hyderabad  Kolkata  Mumbai\n",
       "145748          0        0      0          0        1       0\n",
       "175011          0        0      0          1        0       0\n",
       "19797           0        0      1          0        0       0\n",
       "110327          1        0      0          0        0       0\n",
       "125847          0        0      0          0        1       0\n",
       "282963          0        0      0          1        0       0\n",
       "36776           0        0      1          0        0       0\n",
       "291244          0        1      0          0        0       0\n",
       "48497           0        0      0          0        0       1\n",
       "120701          0        0      0          0        1       0\n",
       "259601          1        0      0          0        0       0\n",
       "238171          0        0      0          0        0       1\n",
       "48728           0        0      0          0        0       1\n",
       "88919           1        0      0          0        0       0\n",
       "99323           1        0      0          0        0       0"
      ]
     },
     "metadata": {},
     "output_type": "display_data"
    }
   ],
   "source": [
    "display(dummy_source_city.iloc[32000: 32015]) #visualizzazione 15 valori"
   ]
  },
  {
   "cell_type": "markdown",
   "id": "6c54cf42",
   "metadata": {
    "papermill": {
     "duration": 0.018093,
     "end_time": "2022-09-13T14:58:40.786395",
     "exception": false,
     "start_time": "2022-09-13T14:58:40.768302",
     "status": "completed"
    },
    "tags": []
   },
   "source": [
    "Si uniscono tutte le feature matrix delle variabili categoriche e si eliminano le colonne delle features con testo su cui è stato fatto one-hot encoding."
   ]
  },
  {
   "cell_type": "code",
   "execution_count": 11,
   "id": "7e004e5f",
   "metadata": {
    "execution": {
     "iopub.execute_input": "2022-09-13T14:58:40.824361Z",
     "iopub.status.busy": "2022-09-13T14:58:40.824011Z",
     "iopub.status.idle": "2022-09-13T14:58:41.217435Z",
     "shell.execute_reply": "2022-09-13T14:58:41.216474Z"
    },
    "executionInfo": {
     "elapsed": 826,
     "status": "ok",
     "timestamp": 1658761164859,
     "user": {
      "displayName": "Carola Maria Caivano",
      "userId": "01625777968997829192"
     },
     "user_tz": -120
    },
    "id": "4zN4FydzyXFl",
    "papermill": {
     "duration": 0.415202,
     "end_time": "2022-09-13T14:58:41.219829",
     "exception": false,
     "start_time": "2022-09-13T14:58:40.804627",
     "status": "completed"
    },
    "tags": []
   },
   "outputs": [],
   "source": [
    "data = pd.merge(left=data, right=dummy_source_city, left_index=True, right_index=True)\n",
    "data = pd.merge(left=data, right=dummy_airline, left_index=True, right_index=True)\n",
    "data = pd.merge(left=data, right=dummy_flight, left_index=True, right_index=True)\n",
    "data = pd.merge(left=data, right=dummy_departure_time, left_index=True, right_index=True)\n",
    "data = pd.merge(left=data, right=dummy_stops, left_index=True, right_index=True)\n",
    "data = pd.merge(left=data, right=dummy_arrival_time, left_index=True, right_index=True)\n",
    "data = pd.merge(left=data, right=dummy_destination_city, left_index=True, right_index=True)\n",
    "data = pd.merge(left=data, right=dummy_class, left_index=True, right_index=True)"
   ]
  },
  {
   "cell_type": "code",
   "execution_count": 12,
   "id": "fedd259e",
   "metadata": {
    "execution": {
     "iopub.execute_input": "2022-09-13T14:58:41.259607Z",
     "iopub.status.busy": "2022-09-13T14:58:41.259295Z",
     "iopub.status.idle": "2022-09-13T14:58:43.478614Z",
     "shell.execute_reply": "2022-09-13T14:58:43.477588Z"
    },
    "executionInfo": {
     "elapsed": 2426,
     "status": "ok",
     "timestamp": 1658761167282,
     "user": {
      "displayName": "Carola Maria Caivano",
      "userId": "01625777968997829192"
     },
     "user_tz": -120
    },
    "id": "Nx6hBuTnyXFl",
    "papermill": {
     "duration": 2.241649,
     "end_time": "2022-09-13T14:58:43.481252",
     "exception": false,
     "start_time": "2022-09-13T14:58:41.239603",
     "status": "completed"
    },
    "tags": []
   },
   "outputs": [],
   "source": [
    "data=data.drop(columns=['source_city']) \n",
    "data=data.drop(columns=['airline'])\n",
    "data=data.drop(columns=['flight'])\n",
    "data=data.drop(columns=['departure_time'])\n",
    "data=data.drop(columns=['stops'])\n",
    "data=data.drop(columns=['arrival_time'])\n",
    "data=data.drop(columns=['destination_city'])\n",
    "data=data.drop(columns=['class'])"
   ]
  },
  {
   "cell_type": "code",
   "execution_count": 13,
   "id": "66935299",
   "metadata": {
    "execution": {
     "iopub.execute_input": "2022-09-13T14:58:43.519689Z",
     "iopub.status.busy": "2022-09-13T14:58:43.519353Z",
     "iopub.status.idle": "2022-09-13T14:58:43.544657Z",
     "shell.execute_reply": "2022-09-13T14:58:43.543745Z"
    },
    "executionInfo": {
     "elapsed": 7,
     "status": "ok",
     "timestamp": 1658761167283,
     "user": {
      "displayName": "Carola Maria Caivano",
      "userId": "01625777968997829192"
     },
     "user_tz": -120
    },
    "id": "AmvrNYyhyXFm",
    "outputId": "b8dbf0bd-b60a-4a5e-dceb-51d0a5e8e5ed",
    "papermill": {
     "duration": 0.046732,
     "end_time": "2022-09-13T14:58:43.546704",
     "exception": false,
     "start_time": "2022-09-13T14:58:43.499972",
     "status": "completed"
    },
    "tags": []
   },
   "outputs": [
    {
     "data": {
      "text/html": [
       "<div>\n",
       "<style scoped>\n",
       "    .dataframe tbody tr th:only-of-type {\n",
       "        vertical-align: middle;\n",
       "    }\n",
       "\n",
       "    .dataframe tbody tr th {\n",
       "        vertical-align: top;\n",
       "    }\n",
       "\n",
       "    .dataframe thead th {\n",
       "        text-align: right;\n",
       "    }\n",
       "</style>\n",
       "<table border=\"1\" class=\"dataframe\">\n",
       "  <thead>\n",
       "    <tr style=\"text-align: right;\">\n",
       "      <th></th>\n",
       "      <th>duration</th>\n",
       "      <th>days_left</th>\n",
       "      <th>price</th>\n",
       "      <th>Bangalore_x</th>\n",
       "      <th>Chennai_x</th>\n",
       "      <th>Delhi_x</th>\n",
       "      <th>Hyderabad_x</th>\n",
       "      <th>Kolkata_x</th>\n",
       "      <th>Mumbai_x</th>\n",
       "      <th>AirAsia</th>\n",
       "      <th>...</th>\n",
       "      <th>Morning_y</th>\n",
       "      <th>Night_y</th>\n",
       "      <th>Bangalore_y</th>\n",
       "      <th>Chennai_y</th>\n",
       "      <th>Delhi_y</th>\n",
       "      <th>Hyderabad_y</th>\n",
       "      <th>Kolkata_y</th>\n",
       "      <th>Mumbai_y</th>\n",
       "      <th>Business</th>\n",
       "      <th>Economy</th>\n",
       "    </tr>\n",
       "  </thead>\n",
       "  <tbody>\n",
       "    <tr>\n",
       "      <th>133618</th>\n",
       "      <td>6.67</td>\n",
       "      <td>38</td>\n",
       "      <td>6731</td>\n",
       "      <td>0</td>\n",
       "      <td>0</td>\n",
       "      <td>0</td>\n",
       "      <td>0</td>\n",
       "      <td>1</td>\n",
       "      <td>0</td>\n",
       "      <td>0</td>\n",
       "      <td>...</td>\n",
       "      <td>0</td>\n",
       "      <td>1</td>\n",
       "      <td>0</td>\n",
       "      <td>0</td>\n",
       "      <td>0</td>\n",
       "      <td>0</td>\n",
       "      <td>0</td>\n",
       "      <td>1</td>\n",
       "      <td>0</td>\n",
       "      <td>1</td>\n",
       "    </tr>\n",
       "    <tr>\n",
       "      <th>32139</th>\n",
       "      <td>13.83</td>\n",
       "      <td>27</td>\n",
       "      <td>5657</td>\n",
       "      <td>0</td>\n",
       "      <td>0</td>\n",
       "      <td>1</td>\n",
       "      <td>0</td>\n",
       "      <td>0</td>\n",
       "      <td>0</td>\n",
       "      <td>0</td>\n",
       "      <td>...</td>\n",
       "      <td>1</td>\n",
       "      <td>0</td>\n",
       "      <td>0</td>\n",
       "      <td>0</td>\n",
       "      <td>0</td>\n",
       "      <td>1</td>\n",
       "      <td>0</td>\n",
       "      <td>0</td>\n",
       "      <td>0</td>\n",
       "      <td>1</td>\n",
       "    </tr>\n",
       "    <tr>\n",
       "      <th>126172</th>\n",
       "      <td>6.00</td>\n",
       "      <td>42</td>\n",
       "      <td>2994</td>\n",
       "      <td>0</td>\n",
       "      <td>0</td>\n",
       "      <td>0</td>\n",
       "      <td>0</td>\n",
       "      <td>1</td>\n",
       "      <td>0</td>\n",
       "      <td>0</td>\n",
       "      <td>...</td>\n",
       "      <td>0</td>\n",
       "      <td>0</td>\n",
       "      <td>0</td>\n",
       "      <td>0</td>\n",
       "      <td>1</td>\n",
       "      <td>0</td>\n",
       "      <td>0</td>\n",
       "      <td>0</td>\n",
       "      <td>0</td>\n",
       "      <td>1</td>\n",
       "    </tr>\n",
       "    <tr>\n",
       "      <th>4170</th>\n",
       "      <td>5.83</td>\n",
       "      <td>22</td>\n",
       "      <td>6296</td>\n",
       "      <td>0</td>\n",
       "      <td>0</td>\n",
       "      <td>1</td>\n",
       "      <td>0</td>\n",
       "      <td>0</td>\n",
       "      <td>0</td>\n",
       "      <td>0</td>\n",
       "      <td>...</td>\n",
       "      <td>0</td>\n",
       "      <td>1</td>\n",
       "      <td>0</td>\n",
       "      <td>0</td>\n",
       "      <td>0</td>\n",
       "      <td>0</td>\n",
       "      <td>0</td>\n",
       "      <td>1</td>\n",
       "      <td>0</td>\n",
       "      <td>1</td>\n",
       "    </tr>\n",
       "    <tr>\n",
       "      <th>218547</th>\n",
       "      <td>19.17</td>\n",
       "      <td>41</td>\n",
       "      <td>65529</td>\n",
       "      <td>0</td>\n",
       "      <td>0</td>\n",
       "      <td>1</td>\n",
       "      <td>0</td>\n",
       "      <td>0</td>\n",
       "      <td>0</td>\n",
       "      <td>0</td>\n",
       "      <td>...</td>\n",
       "      <td>0</td>\n",
       "      <td>0</td>\n",
       "      <td>0</td>\n",
       "      <td>0</td>\n",
       "      <td>0</td>\n",
       "      <td>0</td>\n",
       "      <td>1</td>\n",
       "      <td>0</td>\n",
       "      <td>1</td>\n",
       "      <td>0</td>\n",
       "    </tr>\n",
       "    <tr>\n",
       "      <th>...</th>\n",
       "      <td>...</td>\n",
       "      <td>...</td>\n",
       "      <td>...</td>\n",
       "      <td>...</td>\n",
       "      <td>...</td>\n",
       "      <td>...</td>\n",
       "      <td>...</td>\n",
       "      <td>...</td>\n",
       "      <td>...</td>\n",
       "      <td>...</td>\n",
       "      <td>...</td>\n",
       "      <td>...</td>\n",
       "      <td>...</td>\n",
       "      <td>...</td>\n",
       "      <td>...</td>\n",
       "      <td>...</td>\n",
       "      <td>...</td>\n",
       "      <td>...</td>\n",
       "      <td>...</td>\n",
       "      <td>...</td>\n",
       "      <td>...</td>\n",
       "    </tr>\n",
       "    <tr>\n",
       "      <th>205006</th>\n",
       "      <td>1.17</td>\n",
       "      <td>31</td>\n",
       "      <td>1105</td>\n",
       "      <td>0</td>\n",
       "      <td>1</td>\n",
       "      <td>0</td>\n",
       "      <td>0</td>\n",
       "      <td>0</td>\n",
       "      <td>0</td>\n",
       "      <td>1</td>\n",
       "      <td>...</td>\n",
       "      <td>1</td>\n",
       "      <td>0</td>\n",
       "      <td>0</td>\n",
       "      <td>0</td>\n",
       "      <td>0</td>\n",
       "      <td>1</td>\n",
       "      <td>0</td>\n",
       "      <td>0</td>\n",
       "      <td>0</td>\n",
       "      <td>1</td>\n",
       "    </tr>\n",
       "    <tr>\n",
       "      <th>58085</th>\n",
       "      <td>1.92</td>\n",
       "      <td>31</td>\n",
       "      <td>2124</td>\n",
       "      <td>0</td>\n",
       "      <td>0</td>\n",
       "      <td>0</td>\n",
       "      <td>0</td>\n",
       "      <td>0</td>\n",
       "      <td>1</td>\n",
       "      <td>1</td>\n",
       "      <td>...</td>\n",
       "      <td>0</td>\n",
       "      <td>1</td>\n",
       "      <td>1</td>\n",
       "      <td>0</td>\n",
       "      <td>0</td>\n",
       "      <td>0</td>\n",
       "      <td>0</td>\n",
       "      <td>0</td>\n",
       "      <td>0</td>\n",
       "      <td>1</td>\n",
       "    </tr>\n",
       "    <tr>\n",
       "      <th>155849</th>\n",
       "      <td>11.00</td>\n",
       "      <td>29</td>\n",
       "      <td>6133</td>\n",
       "      <td>0</td>\n",
       "      <td>0</td>\n",
       "      <td>0</td>\n",
       "      <td>1</td>\n",
       "      <td>0</td>\n",
       "      <td>0</td>\n",
       "      <td>0</td>\n",
       "      <td>...</td>\n",
       "      <td>0</td>\n",
       "      <td>1</td>\n",
       "      <td>0</td>\n",
       "      <td>0</td>\n",
       "      <td>1</td>\n",
       "      <td>0</td>\n",
       "      <td>0</td>\n",
       "      <td>0</td>\n",
       "      <td>0</td>\n",
       "      <td>1</td>\n",
       "    </tr>\n",
       "    <tr>\n",
       "      <th>144552</th>\n",
       "      <td>5.25</td>\n",
       "      <td>20</td>\n",
       "      <td>5699</td>\n",
       "      <td>0</td>\n",
       "      <td>0</td>\n",
       "      <td>0</td>\n",
       "      <td>0</td>\n",
       "      <td>1</td>\n",
       "      <td>0</td>\n",
       "      <td>0</td>\n",
       "      <td>...</td>\n",
       "      <td>1</td>\n",
       "      <td>0</td>\n",
       "      <td>0</td>\n",
       "      <td>0</td>\n",
       "      <td>0</td>\n",
       "      <td>1</td>\n",
       "      <td>0</td>\n",
       "      <td>0</td>\n",
       "      <td>0</td>\n",
       "      <td>1</td>\n",
       "    </tr>\n",
       "    <tr>\n",
       "      <th>87234</th>\n",
       "      <td>10.92</td>\n",
       "      <td>18</td>\n",
       "      <td>3674</td>\n",
       "      <td>1</td>\n",
       "      <td>0</td>\n",
       "      <td>0</td>\n",
       "      <td>0</td>\n",
       "      <td>0</td>\n",
       "      <td>0</td>\n",
       "      <td>0</td>\n",
       "      <td>...</td>\n",
       "      <td>0</td>\n",
       "      <td>0</td>\n",
       "      <td>0</td>\n",
       "      <td>0</td>\n",
       "      <td>1</td>\n",
       "      <td>0</td>\n",
       "      <td>0</td>\n",
       "      <td>0</td>\n",
       "      <td>0</td>\n",
       "      <td>1</td>\n",
       "    </tr>\n",
       "  </tbody>\n",
       "</table>\n",
       "<p>100153 rows × 1542 columns</p>\n",
       "</div>"
      ],
      "text/plain": [
       "        duration  days_left  price  Bangalore_x  Chennai_x  Delhi_x  \\\n",
       "133618      6.67         38   6731            0          0        0   \n",
       "32139      13.83         27   5657            0          0        1   \n",
       "126172      6.00         42   2994            0          0        0   \n",
       "4170        5.83         22   6296            0          0        1   \n",
       "218547     19.17         41  65529            0          0        1   \n",
       "...          ...        ...    ...          ...        ...      ...   \n",
       "205006      1.17         31   1105            0          1        0   \n",
       "58085       1.92         31   2124            0          0        0   \n",
       "155849     11.00         29   6133            0          0        0   \n",
       "144552      5.25         20   5699            0          0        0   \n",
       "87234      10.92         18   3674            1          0        0   \n",
       "\n",
       "        Hyderabad_x  Kolkata_x  Mumbai_x  AirAsia  ...  Morning_y  Night_y  \\\n",
       "133618            0          1         0        0  ...          0        1   \n",
       "32139             0          0         0        0  ...          1        0   \n",
       "126172            0          1         0        0  ...          0        0   \n",
       "4170              0          0         0        0  ...          0        1   \n",
       "218547            0          0         0        0  ...          0        0   \n",
       "...             ...        ...       ...      ...  ...        ...      ...   \n",
       "205006            0          0         0        1  ...          1        0   \n",
       "58085             0          0         1        1  ...          0        1   \n",
       "155849            1          0         0        0  ...          0        1   \n",
       "144552            0          1         0        0  ...          1        0   \n",
       "87234             0          0         0        0  ...          0        0   \n",
       "\n",
       "        Bangalore_y  Chennai_y  Delhi_y  Hyderabad_y  Kolkata_y  Mumbai_y  \\\n",
       "133618            0          0        0            0          0         1   \n",
       "32139             0          0        0            1          0         0   \n",
       "126172            0          0        1            0          0         0   \n",
       "4170              0          0        0            0          0         1   \n",
       "218547            0          0        0            0          1         0   \n",
       "...             ...        ...      ...          ...        ...       ...   \n",
       "205006            0          0        0            1          0         0   \n",
       "58085             1          0        0            0          0         0   \n",
       "155849            0          0        1            0          0         0   \n",
       "144552            0          0        0            1          0         0   \n",
       "87234             0          0        1            0          0         0   \n",
       "\n",
       "        Business  Economy  \n",
       "133618         0        1  \n",
       "32139          0        1  \n",
       "126172         0        1  \n",
       "4170           0        1  \n",
       "218547         1        0  \n",
       "...          ...      ...  \n",
       "205006         0        1  \n",
       "58085          0        1  \n",
       "155849         0        1  \n",
       "144552         0        1  \n",
       "87234          0        1  \n",
       "\n",
       "[100153 rows x 1542 columns]"
      ]
     },
     "metadata": {},
     "output_type": "display_data"
    }
   ],
   "source": [
    "display(data)"
   ]
  },
  {
   "cell_type": "markdown",
   "id": "78daa501",
   "metadata": {
    "papermill": {
     "duration": 0.018719,
     "end_time": "2022-09-13T14:58:43.584567",
     "exception": false,
     "start_time": "2022-09-13T14:58:43.565848",
     "status": "completed"
    },
    "tags": []
   },
   "source": [
    "### 3.2 Standard Scaling\n",
    "Si utilizza lo standard scaler su entrambe le features duration e days_left."
   ]
  },
  {
   "cell_type": "code",
   "execution_count": 14,
   "id": "f0c93d7a",
   "metadata": {
    "execution": {
     "iopub.execute_input": "2022-09-13T14:58:43.624628Z",
     "iopub.status.busy": "2022-09-13T14:58:43.624285Z",
     "iopub.status.idle": "2022-09-13T14:58:43.652915Z",
     "shell.execute_reply": "2022-09-13T14:58:43.652034Z"
    },
    "papermill": {
     "duration": 0.051644,
     "end_time": "2022-09-13T14:58:43.654962",
     "exception": false,
     "start_time": "2022-09-13T14:58:43.603318",
     "status": "completed"
    },
    "tags": []
   },
   "outputs": [],
   "source": [
    "from sklearn.preprocessing import StandardScaler"
   ]
  },
  {
   "cell_type": "code",
   "execution_count": 15,
   "id": "a3072568",
   "metadata": {
    "execution": {
     "iopub.execute_input": "2022-09-13T14:58:43.694723Z",
     "iopub.status.busy": "2022-09-13T14:58:43.694430Z",
     "iopub.status.idle": "2022-09-13T14:58:43.700998Z",
     "shell.execute_reply": "2022-09-13T14:58:43.700156Z"
    },
    "papermill": {
     "duration": 0.028354,
     "end_time": "2022-09-13T14:58:43.702965",
     "exception": false,
     "start_time": "2022-09-13T14:58:43.674611",
     "status": "completed"
    },
    "tags": []
   },
   "outputs": [],
   "source": [
    "array_duration=np.array(data['duration'])\n",
    "array_days_left=np.array(data['days_left'])"
   ]
  },
  {
   "cell_type": "code",
   "execution_count": 16,
   "id": "61d2cd7d",
   "metadata": {
    "execution": {
     "iopub.execute_input": "2022-09-13T14:58:43.743066Z",
     "iopub.status.busy": "2022-09-13T14:58:43.741995Z",
     "iopub.status.idle": "2022-09-13T14:58:43.750863Z",
     "shell.execute_reply": "2022-09-13T14:58:43.749935Z"
    },
    "papermill": {
     "duration": 0.030642,
     "end_time": "2022-09-13T14:58:43.752840",
     "exception": false,
     "start_time": "2022-09-13T14:58:43.722198",
     "status": "completed"
    },
    "tags": []
   },
   "outputs": [],
   "source": [
    "scaler = StandardScaler()\n",
    "duration_scaled=scaler.fit_transform(array_duration.reshape(-1,1))\n",
    "days_left_scaled=scaler.fit_transform(array_days_left.reshape(-1,1))"
   ]
  },
  {
   "cell_type": "code",
   "execution_count": 17,
   "id": "53d29857",
   "metadata": {
    "execution": {
     "iopub.execute_input": "2022-09-13T14:58:43.793032Z",
     "iopub.status.busy": "2022-09-13T14:58:43.791489Z",
     "iopub.status.idle": "2022-09-13T14:58:44.476884Z",
     "shell.execute_reply": "2022-09-13T14:58:44.475941Z"
    },
    "papermill": {
     "duration": 0.707321,
     "end_time": "2022-09-13T14:58:44.478894",
     "exception": false,
     "start_time": "2022-09-13T14:58:43.771573",
     "status": "completed"
    },
    "tags": []
   },
   "outputs": [
    {
     "data": {
      "text/html": [
       "<div>\n",
       "<style scoped>\n",
       "    .dataframe tbody tr th:only-of-type {\n",
       "        vertical-align: middle;\n",
       "    }\n",
       "\n",
       "    .dataframe tbody tr th {\n",
       "        vertical-align: top;\n",
       "    }\n",
       "\n",
       "    .dataframe thead th {\n",
       "        text-align: right;\n",
       "    }\n",
       "</style>\n",
       "<table border=\"1\" class=\"dataframe\">\n",
       "  <thead>\n",
       "    <tr style=\"text-align: right;\">\n",
       "      <th></th>\n",
       "      <th>price</th>\n",
       "      <th>Bangalore_x</th>\n",
       "      <th>Chennai_x</th>\n",
       "      <th>Delhi_x</th>\n",
       "      <th>Hyderabad_x</th>\n",
       "      <th>Kolkata_x</th>\n",
       "      <th>Mumbai_x</th>\n",
       "      <th>AirAsia</th>\n",
       "      <th>Air_India</th>\n",
       "      <th>GO_FIRST</th>\n",
       "      <th>...</th>\n",
       "      <th>Bangalore_y</th>\n",
       "      <th>Chennai_y</th>\n",
       "      <th>Delhi_y</th>\n",
       "      <th>Hyderabad_y</th>\n",
       "      <th>Kolkata_y</th>\n",
       "      <th>Mumbai_y</th>\n",
       "      <th>Business</th>\n",
       "      <th>Economy</th>\n",
       "      <th>duration_scaled</th>\n",
       "      <th>days_left_scaled</th>\n",
       "    </tr>\n",
       "  </thead>\n",
       "  <tbody>\n",
       "    <tr>\n",
       "      <th>133618</th>\n",
       "      <td>6731</td>\n",
       "      <td>0</td>\n",
       "      <td>0</td>\n",
       "      <td>0</td>\n",
       "      <td>0</td>\n",
       "      <td>1</td>\n",
       "      <td>0</td>\n",
       "      <td>0</td>\n",
       "      <td>0</td>\n",
       "      <td>0</td>\n",
       "      <td>...</td>\n",
       "      <td>0</td>\n",
       "      <td>0</td>\n",
       "      <td>0</td>\n",
       "      <td>0</td>\n",
       "      <td>0</td>\n",
       "      <td>1</td>\n",
       "      <td>0</td>\n",
       "      <td>1</td>\n",
       "      <td>-0.773125</td>\n",
       "      <td>0.887460</td>\n",
       "    </tr>\n",
       "    <tr>\n",
       "      <th>32139</th>\n",
       "      <td>5657</td>\n",
       "      <td>0</td>\n",
       "      <td>0</td>\n",
       "      <td>1</td>\n",
       "      <td>0</td>\n",
       "      <td>0</td>\n",
       "      <td>0</td>\n",
       "      <td>0</td>\n",
       "      <td>0</td>\n",
       "      <td>1</td>\n",
       "      <td>...</td>\n",
       "      <td>0</td>\n",
       "      <td>0</td>\n",
       "      <td>0</td>\n",
       "      <td>1</td>\n",
       "      <td>0</td>\n",
       "      <td>0</td>\n",
       "      <td>0</td>\n",
       "      <td>1</td>\n",
       "      <td>0.219829</td>\n",
       "      <td>0.075578</td>\n",
       "    </tr>\n",
       "    <tr>\n",
       "      <th>126172</th>\n",
       "      <td>2994</td>\n",
       "      <td>0</td>\n",
       "      <td>0</td>\n",
       "      <td>0</td>\n",
       "      <td>0</td>\n",
       "      <td>1</td>\n",
       "      <td>0</td>\n",
       "      <td>0</td>\n",
       "      <td>0</td>\n",
       "      <td>0</td>\n",
       "      <td>...</td>\n",
       "      <td>0</td>\n",
       "      <td>0</td>\n",
       "      <td>1</td>\n",
       "      <td>0</td>\n",
       "      <td>0</td>\n",
       "      <td>0</td>\n",
       "      <td>0</td>\n",
       "      <td>1</td>\n",
       "      <td>-0.866041</td>\n",
       "      <td>1.182690</td>\n",
       "    </tr>\n",
       "    <tr>\n",
       "      <th>4170</th>\n",
       "      <td>6296</td>\n",
       "      <td>0</td>\n",
       "      <td>0</td>\n",
       "      <td>1</td>\n",
       "      <td>0</td>\n",
       "      <td>0</td>\n",
       "      <td>0</td>\n",
       "      <td>0</td>\n",
       "      <td>0</td>\n",
       "      <td>0</td>\n",
       "      <td>...</td>\n",
       "      <td>0</td>\n",
       "      <td>0</td>\n",
       "      <td>0</td>\n",
       "      <td>0</td>\n",
       "      <td>0</td>\n",
       "      <td>1</td>\n",
       "      <td>0</td>\n",
       "      <td>1</td>\n",
       "      <td>-0.889617</td>\n",
       "      <td>-0.293460</td>\n",
       "    </tr>\n",
       "    <tr>\n",
       "      <th>218547</th>\n",
       "      <td>65529</td>\n",
       "      <td>0</td>\n",
       "      <td>0</td>\n",
       "      <td>1</td>\n",
       "      <td>0</td>\n",
       "      <td>0</td>\n",
       "      <td>0</td>\n",
       "      <td>0</td>\n",
       "      <td>0</td>\n",
       "      <td>0</td>\n",
       "      <td>...</td>\n",
       "      <td>0</td>\n",
       "      <td>0</td>\n",
       "      <td>0</td>\n",
       "      <td>0</td>\n",
       "      <td>1</td>\n",
       "      <td>0</td>\n",
       "      <td>1</td>\n",
       "      <td>0</td>\n",
       "      <td>0.960383</td>\n",
       "      <td>1.108882</td>\n",
       "    </tr>\n",
       "    <tr>\n",
       "      <th>...</th>\n",
       "      <td>...</td>\n",
       "      <td>...</td>\n",
       "      <td>...</td>\n",
       "      <td>...</td>\n",
       "      <td>...</td>\n",
       "      <td>...</td>\n",
       "      <td>...</td>\n",
       "      <td>...</td>\n",
       "      <td>...</td>\n",
       "      <td>...</td>\n",
       "      <td>...</td>\n",
       "      <td>...</td>\n",
       "      <td>...</td>\n",
       "      <td>...</td>\n",
       "      <td>...</td>\n",
       "      <td>...</td>\n",
       "      <td>...</td>\n",
       "      <td>...</td>\n",
       "      <td>...</td>\n",
       "      <td>...</td>\n",
       "      <td>...</td>\n",
       "    </tr>\n",
       "    <tr>\n",
       "      <th>205006</th>\n",
       "      <td>1105</td>\n",
       "      <td>0</td>\n",
       "      <td>1</td>\n",
       "      <td>0</td>\n",
       "      <td>0</td>\n",
       "      <td>0</td>\n",
       "      <td>0</td>\n",
       "      <td>1</td>\n",
       "      <td>0</td>\n",
       "      <td>0</td>\n",
       "      <td>...</td>\n",
       "      <td>0</td>\n",
       "      <td>0</td>\n",
       "      <td>0</td>\n",
       "      <td>1</td>\n",
       "      <td>0</td>\n",
       "      <td>0</td>\n",
       "      <td>0</td>\n",
       "      <td>1</td>\n",
       "      <td>-1.535869</td>\n",
       "      <td>0.370807</td>\n",
       "    </tr>\n",
       "    <tr>\n",
       "      <th>58085</th>\n",
       "      <td>2124</td>\n",
       "      <td>0</td>\n",
       "      <td>0</td>\n",
       "      <td>0</td>\n",
       "      <td>0</td>\n",
       "      <td>0</td>\n",
       "      <td>1</td>\n",
       "      <td>1</td>\n",
       "      <td>0</td>\n",
       "      <td>0</td>\n",
       "      <td>...</td>\n",
       "      <td>1</td>\n",
       "      <td>0</td>\n",
       "      <td>0</td>\n",
       "      <td>0</td>\n",
       "      <td>0</td>\n",
       "      <td>0</td>\n",
       "      <td>0</td>\n",
       "      <td>1</td>\n",
       "      <td>-1.431858</td>\n",
       "      <td>0.370807</td>\n",
       "    </tr>\n",
       "    <tr>\n",
       "      <th>155849</th>\n",
       "      <td>6133</td>\n",
       "      <td>0</td>\n",
       "      <td>0</td>\n",
       "      <td>0</td>\n",
       "      <td>1</td>\n",
       "      <td>0</td>\n",
       "      <td>0</td>\n",
       "      <td>0</td>\n",
       "      <td>0</td>\n",
       "      <td>0</td>\n",
       "      <td>...</td>\n",
       "      <td>0</td>\n",
       "      <td>0</td>\n",
       "      <td>1</td>\n",
       "      <td>0</td>\n",
       "      <td>0</td>\n",
       "      <td>0</td>\n",
       "      <td>0</td>\n",
       "      <td>1</td>\n",
       "      <td>-0.172638</td>\n",
       "      <td>0.223193</td>\n",
       "    </tr>\n",
       "    <tr>\n",
       "      <th>144552</th>\n",
       "      <td>5699</td>\n",
       "      <td>0</td>\n",
       "      <td>0</td>\n",
       "      <td>0</td>\n",
       "      <td>0</td>\n",
       "      <td>1</td>\n",
       "      <td>0</td>\n",
       "      <td>0</td>\n",
       "      <td>0</td>\n",
       "      <td>0</td>\n",
       "      <td>...</td>\n",
       "      <td>0</td>\n",
       "      <td>0</td>\n",
       "      <td>0</td>\n",
       "      <td>1</td>\n",
       "      <td>0</td>\n",
       "      <td>0</td>\n",
       "      <td>0</td>\n",
       "      <td>1</td>\n",
       "      <td>-0.970052</td>\n",
       "      <td>-0.441075</td>\n",
       "    </tr>\n",
       "    <tr>\n",
       "      <th>87234</th>\n",
       "      <td>3674</td>\n",
       "      <td>1</td>\n",
       "      <td>0</td>\n",
       "      <td>0</td>\n",
       "      <td>0</td>\n",
       "      <td>0</td>\n",
       "      <td>0</td>\n",
       "      <td>0</td>\n",
       "      <td>1</td>\n",
       "      <td>0</td>\n",
       "      <td>...</td>\n",
       "      <td>0</td>\n",
       "      <td>0</td>\n",
       "      <td>1</td>\n",
       "      <td>0</td>\n",
       "      <td>0</td>\n",
       "      <td>0</td>\n",
       "      <td>0</td>\n",
       "      <td>1</td>\n",
       "      <td>-0.183732</td>\n",
       "      <td>-0.588690</td>\n",
       "    </tr>\n",
       "  </tbody>\n",
       "</table>\n",
       "<p>100153 rows × 1542 columns</p>\n",
       "</div>"
      ],
      "text/plain": [
       "        price  Bangalore_x  Chennai_x  Delhi_x  Hyderabad_x  Kolkata_x  \\\n",
       "133618   6731            0          0        0            0          1   \n",
       "32139    5657            0          0        1            0          0   \n",
       "126172   2994            0          0        0            0          1   \n",
       "4170     6296            0          0        1            0          0   \n",
       "218547  65529            0          0        1            0          0   \n",
       "...       ...          ...        ...      ...          ...        ...   \n",
       "205006   1105            0          1        0            0          0   \n",
       "58085    2124            0          0        0            0          0   \n",
       "155849   6133            0          0        0            1          0   \n",
       "144552   5699            0          0        0            0          1   \n",
       "87234    3674            1          0        0            0          0   \n",
       "\n",
       "        Mumbai_x  AirAsia  Air_India  GO_FIRST  ...  Bangalore_y  Chennai_y  \\\n",
       "133618         0        0          0         0  ...            0          0   \n",
       "32139          0        0          0         1  ...            0          0   \n",
       "126172         0        0          0         0  ...            0          0   \n",
       "4170           0        0          0         0  ...            0          0   \n",
       "218547         0        0          0         0  ...            0          0   \n",
       "...          ...      ...        ...       ...  ...          ...        ...   \n",
       "205006         0        1          0         0  ...            0          0   \n",
       "58085          1        1          0         0  ...            1          0   \n",
       "155849         0        0          0         0  ...            0          0   \n",
       "144552         0        0          0         0  ...            0          0   \n",
       "87234          0        0          1         0  ...            0          0   \n",
       "\n",
       "        Delhi_y  Hyderabad_y  Kolkata_y  Mumbai_y  Business  Economy  \\\n",
       "133618        0            0          0         1         0        1   \n",
       "32139         0            1          0         0         0        1   \n",
       "126172        1            0          0         0         0        1   \n",
       "4170          0            0          0         1         0        1   \n",
       "218547        0            0          1         0         1        0   \n",
       "...         ...          ...        ...       ...       ...      ...   \n",
       "205006        0            1          0         0         0        1   \n",
       "58085         0            0          0         0         0        1   \n",
       "155849        1            0          0         0         0        1   \n",
       "144552        0            1          0         0         0        1   \n",
       "87234         1            0          0         0         0        1   \n",
       "\n",
       "        duration_scaled  days_left_scaled  \n",
       "133618        -0.773125          0.887460  \n",
       "32139          0.219829          0.075578  \n",
       "126172        -0.866041          1.182690  \n",
       "4170          -0.889617         -0.293460  \n",
       "218547         0.960383          1.108882  \n",
       "...                 ...               ...  \n",
       "205006        -1.535869          0.370807  \n",
       "58085         -1.431858          0.370807  \n",
       "155849        -0.172638          0.223193  \n",
       "144552        -0.970052         -0.441075  \n",
       "87234         -0.183732         -0.588690  \n",
       "\n",
       "[100153 rows x 1542 columns]"
      ]
     },
     "metadata": {},
     "output_type": "display_data"
    }
   ],
   "source": [
    "data=data.assign(duration_scaled=duration_scaled)\n",
    "data=data.drop(columns=['duration'])\n",
    "data=data.assign(days_left_scaled=days_left_scaled)\n",
    "data=data.drop(columns=['days_left'])\n",
    "display(data)"
   ]
  },
  {
   "cell_type": "markdown",
   "id": "b1c4067f",
   "metadata": {
    "id": "mKEFSQOFyXFm",
    "papermill": {
     "duration": 0.01915,
     "end_time": "2022-09-13T14:58:44.518476",
     "exception": false,
     "start_time": "2022-09-13T14:58:44.499326",
     "status": "completed"
    },
    "tags": []
   },
   "source": [
    "### 3.3 Estrazione dei target e conversione in array"
   ]
  },
  {
   "cell_type": "code",
   "execution_count": 18,
   "id": "5feb56a6",
   "metadata": {
    "execution": {
     "iopub.execute_input": "2022-09-13T14:58:44.559650Z",
     "iopub.status.busy": "2022-09-13T14:58:44.558947Z",
     "iopub.status.idle": "2022-09-13T14:58:45.549669Z",
     "shell.execute_reply": "2022-09-13T14:58:45.548423Z"
    },
    "executionInfo": {
     "elapsed": 2587,
     "status": "ok",
     "timestamp": 1658761169864,
     "user": {
      "displayName": "Carola Maria Caivano",
      "userId": "01625777968997829192"
     },
     "user_tz": -120
    },
    "id": "oci0c7NPyXFm",
    "outputId": "028ce53b-bfb7-4bd5-9d66-57625bcf69be",
    "papermill": {
     "duration": 1.01387,
     "end_time": "2022-09-13T14:58:45.552317",
     "exception": false,
     "start_time": "2022-09-13T14:58:44.538447",
     "status": "completed"
    },
    "tags": []
   },
   "outputs": [
    {
     "name": "stdout",
     "output_type": "stream",
     "text": [
      "[6731 5657 2994 ... 6133 5699 3674]\n",
      "[[ 0.          0.          0.         ...  1.         -0.77312518\n",
      "   0.88745975]\n",
      " [ 0.          0.          1.         ...  1.          0.21982856\n",
      "   0.07557761]\n",
      " [ 0.          0.          0.         ...  1.         -0.86604124\n",
      "   1.18268962]\n",
      " ...\n",
      " [ 0.          0.          0.         ...  1.         -0.17263779\n",
      "   0.22319255]\n",
      " [ 0.          0.          0.         ...  1.         -0.97005175\n",
      "  -0.44107466]\n",
      " [ 1.          0.          0.         ...  1.         -0.18373224\n",
      "  -0.58868959]]\n"
     ]
    }
   ],
   "source": [
    "#extracting price column and converting to array \n",
    "price=np.array(data['price'])\n",
    "print(price)\n",
    "\n",
    "#deleting price column and converting design matrix to array\n",
    "data=data.drop('price', axis=1)\n",
    "X=np.array(data)\n",
    "print(X)"
   ]
  },
  {
   "cell_type": "code",
   "execution_count": 19,
   "id": "b880f109",
   "metadata": {
    "execution": {
     "iopub.execute_input": "2022-09-13T14:58:45.595450Z",
     "iopub.status.busy": "2022-09-13T14:58:45.593968Z",
     "iopub.status.idle": "2022-09-13T14:58:45.600258Z",
     "shell.execute_reply": "2022-09-13T14:58:45.598811Z"
    },
    "executionInfo": {
     "elapsed": 11,
     "status": "ok",
     "timestamp": 1658761169865,
     "user": {
      "displayName": "Carola Maria Caivano",
      "userId": "01625777968997829192"
     },
     "user_tz": -120
    },
    "id": "Wu-Y6-tcyXFm",
    "outputId": "93d4abee-bd35-40dd-a001-131aa00b3181",
    "papermill": {
     "duration": 0.029273,
     "end_time": "2022-09-13T14:58:45.602218",
     "exception": false,
     "start_time": "2022-09-13T14:58:45.572945",
     "status": "completed"
    },
    "tags": []
   },
   "outputs": [
    {
     "name": "stdout",
     "output_type": "stream",
     "text": [
      "(100153, 1541)\n",
      "(100153,)\n"
     ]
    }
   ],
   "source": [
    "print(X.shape) #dimensione matrice\n",
    "print(price.shape)"
   ]
  },
  {
   "cell_type": "markdown",
   "id": "6c1b7e7b",
   "metadata": {
    "id": "-dwavVfLyXFm",
    "papermill": {
     "duration": 0.019238,
     "end_time": "2022-09-13T14:58:45.640677",
     "exception": false,
     "start_time": "2022-09-13T14:58:45.621439",
     "status": "completed"
    },
    "tags": []
   },
   "source": [
    "### 3.4 Creazione di dataset di training, validazione e di testing"
   ]
  },
  {
   "cell_type": "code",
   "execution_count": 20,
   "id": "f62f36db",
   "metadata": {
    "execution": {
     "iopub.execute_input": "2022-09-13T14:58:45.681248Z",
     "iopub.status.busy": "2022-09-13T14:58:45.680900Z",
     "iopub.status.idle": "2022-09-13T14:58:45.729724Z",
     "shell.execute_reply": "2022-09-13T14:58:45.728836Z"
    },
    "executionInfo": {
     "elapsed": 10,
     "status": "ok",
     "timestamp": 1658761169866,
     "user": {
      "displayName": "Carola Maria Caivano",
      "userId": "01625777968997829192"
     },
     "user_tz": -120
    },
    "id": "YyVPKGP-yXFn",
    "papermill": {
     "duration": 0.071939,
     "end_time": "2022-09-13T14:58:45.731952",
     "exception": false,
     "start_time": "2022-09-13T14:58:45.660013",
     "status": "completed"
    },
    "tags": []
   },
   "outputs": [],
   "source": [
    "from sklearn.model_selection import train_test_split"
   ]
  },
  {
   "cell_type": "code",
   "execution_count": 21,
   "id": "3d332abb",
   "metadata": {
    "execution": {
     "iopub.execute_input": "2022-09-13T14:58:45.776373Z",
     "iopub.status.busy": "2022-09-13T14:58:45.776004Z",
     "iopub.status.idle": "2022-09-13T14:58:47.868710Z",
     "shell.execute_reply": "2022-09-13T14:58:47.867687Z"
    },
    "executionInfo": {
     "elapsed": 4283,
     "status": "ok",
     "timestamp": 1658761174512,
     "user": {
      "displayName": "Carola Maria Caivano",
      "userId": "01625777968997829192"
     },
     "user_tz": -120
    },
    "id": "spGYqx6oyXFn",
    "papermill": {
     "duration": 2.119096,
     "end_time": "2022-09-13T14:58:47.871407",
     "exception": false,
     "start_time": "2022-09-13T14:58:45.752311",
     "status": "completed"
    },
    "tags": []
   },
   "outputs": [],
   "source": [
    "# train_test_split ci restituisce un vettore il primo elemento del vettore è uguale a X_train, il secondo elemento a X_vald e via così\n",
    "X_train_vald, X_test, y_train_vald, y_test = train_test_split(X, price, test_size=0.2, random_state=0)\n",
    "X_train, X_vald, y_train, y_vald = train_test_split(X_train_vald, y_train_vald, test_size=0.2, random_state=0)"
   ]
  },
  {
   "cell_type": "code",
   "execution_count": 22,
   "id": "cad9ce5b",
   "metadata": {
    "execution": {
     "iopub.execute_input": "2022-09-13T14:58:47.934098Z",
     "iopub.status.busy": "2022-09-13T14:58:47.933679Z",
     "iopub.status.idle": "2022-09-13T14:58:47.939212Z",
     "shell.execute_reply": "2022-09-13T14:58:47.938324Z"
    },
    "executionInfo": {
     "elapsed": 27,
     "status": "ok",
     "timestamp": 1658761175198,
     "user": {
      "displayName": "Carola Maria Caivano",
      "userId": "01625777968997829192"
     },
     "user_tz": -120
    },
    "id": "_SP_dkYIyXFn",
    "outputId": "9849882d-5cbd-408a-e585-735392d62f9b",
    "papermill": {
     "duration": 0.043268,
     "end_time": "2022-09-13T14:58:47.945482",
     "exception": false,
     "start_time": "2022-09-13T14:58:47.902214",
     "status": "completed"
    },
    "tags": []
   },
   "outputs": [
    {
     "name": "stdout",
     "output_type": "stream",
     "text": [
      "Training Set:\t (64097, 1541)\n",
      "Validation Set:\t (16025, 1541)\n",
      "Testing Set:\t (20031, 1541)\n"
     ]
    }
   ],
   "source": [
    "print('Training Set:\\t', X_train.shape)\n",
    "print('Validation Set:\\t', X_vald.shape)\n",
    "print('Testing Set:\\t', X_test.shape)"
   ]
  },
  {
   "cell_type": "markdown",
   "id": "fa1f0f06",
   "metadata": {
    "id": "Begq1TNK3efa",
    "papermill": {
     "duration": 0.032777,
     "end_time": "2022-09-13T14:58:48.010734",
     "exception": false,
     "start_time": "2022-09-13T14:58:47.977957",
     "status": "completed"
    },
    "tags": []
   },
   "source": [
    "# 4. Fully-Connected Neural Network\n",
    "Si è deciso di utilizzare una rete fully connected per la natura dei dati, inoltre l'architettura è stata scelta non aggiungendo troppi layer e neuroni per evitare overfitting."
   ]
  },
  {
   "cell_type": "code",
   "execution_count": 23,
   "id": "09b3701a",
   "metadata": {
    "execution": {
     "iopub.execute_input": "2022-09-13T14:58:48.082468Z",
     "iopub.status.busy": "2022-09-13T14:58:48.082011Z",
     "iopub.status.idle": "2022-09-13T14:58:53.244565Z",
     "shell.execute_reply": "2022-09-13T14:58:53.243522Z"
    },
    "executionInfo": {
     "elapsed": 3867,
     "status": "ok",
     "timestamp": 1658761179049,
     "user": {
      "displayName": "Carola Maria Caivano",
      "userId": "01625777968997829192"
     },
     "user_tz": -120
    },
    "id": "ixMmSSrD3W1x",
    "papermill": {
     "duration": 5.204534,
     "end_time": "2022-09-13T14:58:53.247315",
     "exception": false,
     "start_time": "2022-09-13T14:58:48.042781",
     "status": "completed"
    },
    "tags": []
   },
   "outputs": [],
   "source": [
    "import tensorflow as tf\n",
    "\n",
    "# il modello sarà lineare, quindi si importa Sequential\n",
    "from tensorflow.keras.models import Sequential \n",
    "\n",
    "# si importano diverse tipologie di layer\n",
    "from tensorflow.keras.layers import Input, Dense, Dropout, Flatten, BatchNormalization\n",
    "\n",
    "# si importa un regolarizzatore l2\n",
    "from tensorflow.keras.regularizers import l2\n",
    "\n",
    "# libreria per il learning rate che decade esponenzialmente\n",
    "from keras.callbacks import LearningRateScheduler"
   ]
  },
  {
   "cell_type": "markdown",
   "id": "5248c71c",
   "metadata": {
    "papermill": {
     "duration": 0.019173,
     "end_time": "2022-09-13T14:58:53.286741",
     "exception": false,
     "start_time": "2022-09-13T14:58:53.267568",
     "status": "completed"
    },
    "tags": []
   },
   "source": [
    "### 4.1 Run Singola del modello"
   ]
  },
  {
   "cell_type": "code",
   "execution_count": 24,
   "id": "51545d49",
   "metadata": {
    "execution": {
     "iopub.execute_input": "2022-09-13T14:58:53.328088Z",
     "iopub.status.busy": "2022-09-13T14:58:53.327163Z",
     "iopub.status.idle": "2022-09-13T14:58:56.254672Z",
     "shell.execute_reply": "2022-09-13T14:58:56.253713Z"
    },
    "executionInfo": {
     "elapsed": 239,
     "status": "ok",
     "timestamp": 1658761502887,
     "user": {
      "displayName": "Carola Maria Caivano",
      "userId": "01625777968997829192"
     },
     "user_tz": -120
    },
    "id": "bI4WpJwC4PLt",
    "outputId": "e599d8cd-168b-4356-f3e3-9435ee8c0774",
    "papermill": {
     "duration": 2.952737,
     "end_time": "2022-09-13T14:58:56.259321",
     "exception": false,
     "start_time": "2022-09-13T14:58:53.306584",
     "status": "completed"
    },
    "tags": []
   },
   "outputs": [
    {
     "name": "stderr",
     "output_type": "stream",
     "text": [
      "2022-09-13 14:58:53.426350: I tensorflow/stream_executor/cuda/cuda_gpu_executor.cc:937] successful NUMA node read from SysFS had negative value (-1), but there must be at least one NUMA node, so returning NUMA node zero\n"
     ]
    },
    {
     "name": "stdout",
     "output_type": "stream",
     "text": [
      "Model: \"sequential\"\n",
      "_________________________________________________________________\n",
      "Layer (type)                 Output Shape              Param #   \n",
      "=================================================================\n",
      "dense (Dense)                (None, 256)               394752    \n",
      "_________________________________________________________________\n",
      "batch_normalization (BatchNo (None, 256)               1024      \n",
      "_________________________________________________________________\n",
      "dense_1 (Dense)              (None, 128)               32896     \n",
      "_________________________________________________________________\n",
      "batch_normalization_1 (Batch (None, 128)               512       \n",
      "_________________________________________________________________\n",
      "dense_2 (Dense)              (None, 64)                8256      \n",
      "_________________________________________________________________\n",
      "dense_3 (Dense)              (None, 1)                 65        \n",
      "=================================================================\n",
      "Total params: 437,505\n",
      "Trainable params: 436,737\n",
      "Non-trainable params: 768\n",
      "_________________________________________________________________\n"
     ]
    },
    {
     "name": "stderr",
     "output_type": "stream",
     "text": [
      "2022-09-13 14:58:53.566579: I tensorflow/stream_executor/cuda/cuda_gpu_executor.cc:937] successful NUMA node read from SysFS had negative value (-1), but there must be at least one NUMA node, so returning NUMA node zero\n",
      "2022-09-13 14:58:53.567449: I tensorflow/stream_executor/cuda/cuda_gpu_executor.cc:937] successful NUMA node read from SysFS had negative value (-1), but there must be at least one NUMA node, so returning NUMA node zero\n",
      "2022-09-13 14:58:53.568666: I tensorflow/core/platform/cpu_feature_guard.cc:142] This TensorFlow binary is optimized with oneAPI Deep Neural Network Library (oneDNN) to use the following CPU instructions in performance-critical operations:  AVX2 AVX512F FMA\n",
      "To enable them in other operations, rebuild TensorFlow with the appropriate compiler flags.\n",
      "2022-09-13 14:58:53.569019: I tensorflow/stream_executor/cuda/cuda_gpu_executor.cc:937] successful NUMA node read from SysFS had negative value (-1), but there must be at least one NUMA node, so returning NUMA node zero\n",
      "2022-09-13 14:58:53.569737: I tensorflow/stream_executor/cuda/cuda_gpu_executor.cc:937] successful NUMA node read from SysFS had negative value (-1), but there must be at least one NUMA node, so returning NUMA node zero\n",
      "2022-09-13 14:58:53.570391: I tensorflow/stream_executor/cuda/cuda_gpu_executor.cc:937] successful NUMA node read from SysFS had negative value (-1), but there must be at least one NUMA node, so returning NUMA node zero\n",
      "2022-09-13 14:58:55.819775: I tensorflow/stream_executor/cuda/cuda_gpu_executor.cc:937] successful NUMA node read from SysFS had negative value (-1), but there must be at least one NUMA node, so returning NUMA node zero\n",
      "2022-09-13 14:58:55.820672: I tensorflow/stream_executor/cuda/cuda_gpu_executor.cc:937] successful NUMA node read from SysFS had negative value (-1), but there must be at least one NUMA node, so returning NUMA node zero\n",
      "2022-09-13 14:58:55.821349: I tensorflow/stream_executor/cuda/cuda_gpu_executor.cc:937] successful NUMA node read from SysFS had negative value (-1), but there must be at least one NUMA node, so returning NUMA node zero\n",
      "2022-09-13 14:58:55.821949: I tensorflow/core/common_runtime/gpu/gpu_device.cc:1510] Created device /job:localhost/replica:0/task:0/device:GPU:0 with 15403 MB memory:  -> device: 0, name: Tesla P100-PCIE-16GB, pci bus id: 0000:00:04.0, compute capability: 6.0\n"
     ]
    }
   ],
   "source": [
    "h_lambda = 0.01\n",
    "init_mode = ['uniform', 'lecun_uniform', 'normal', \n",
    "             'glorot_normal', 'glorot_uniform', 'he_normal', 'he_uniform']\n",
    "epochs = 100\n",
    "init_mode = 'normal'\n",
    "batch_size = 1024\n",
    "learning_rate = 0.2\n",
    "\n",
    "model = Sequential(\n",
    "    [\n",
    "        Input(X_train.shape[1]), #inserisco la dimensione\n",
    "        Dense(256, activation='relu', kernel_initializer=init_mode, kernel_regularizer=l2(h_lambda)),\n",
    "\n",
    "        BatchNormalization(),\n",
    "        Dense(128, activation='relu', kernel_initializer=init_mode, kernel_regularizer=l2(h_lambda)),\n",
    "\n",
    "        BatchNormalization(),\n",
    "        Dense(64, activation='relu', kernel_initializer=init_mode, kernel_regularizer=l2(h_lambda)),\n",
    "\n",
    "        Dense(1, activation='relu', kernel_initializer=init_mode, kernel_regularizer=l2(h_lambda))\n",
    "    ]\n",
    ")\n",
    "\n",
    "# learning_rate = initial_learning_rate * decay_rate^(step / decay_steps)\n",
    "lr_schedule = tf.keras.optimizers.schedules.ExponentialDecay(\n",
    "    initial_learning_rate = learning_rate,\n",
    "    decay_steps = 10000,\n",
    "    decay_rate = learning_rate / epochs\n",
    ")\n",
    "optimizer = tf.keras.optimizers.Adam(learning_rate = lr_schedule)\n",
    "\n",
    "model.compile(loss='mse', optimizer=optimizer, metrics=['mae']) #scelgo come loss mean squared error\n",
    "model.summary()"
   ]
  },
  {
   "cell_type": "code",
   "execution_count": 25,
   "id": "e2cebe85",
   "metadata": {
    "_kg_hide-input": true,
    "_kg_hide-output": true,
    "execution": {
     "iopub.execute_input": "2022-09-13T14:58:56.302027Z",
     "iopub.status.busy": "2022-09-13T14:58:56.301685Z",
     "iopub.status.idle": "2022-09-13T14:59:48.486651Z",
     "shell.execute_reply": "2022-09-13T14:59:48.485664Z"
    },
    "id": "Je6nJ0Ag8VkW",
    "papermill": {
     "duration": 52.208698,
     "end_time": "2022-09-13T14:59:48.489504",
     "exception": false,
     "start_time": "2022-09-13T14:58:56.280806",
     "status": "completed"
    },
    "tags": []
   },
   "outputs": [
    {
     "name": "stderr",
     "output_type": "stream",
     "text": [
      "2022-09-13 14:58:57.251420: I tensorflow/compiler/mlir/mlir_graph_optimization_pass.cc:185] None of the MLIR Optimization Passes are enabled (registered 2)\n"
     ]
    },
    {
     "name": "stdout",
     "output_type": "stream",
     "text": [
      "Epoch 1/100\n",
      "63/63 [==============================] - 3s 14ms/step - loss: 133164800.0000 - mae: 5706.7666 - val_loss: 3210827008.0000 - val_mae: 55023.7773\n",
      "Epoch 2/100\n",
      "63/63 [==============================] - 0s 7ms/step - loss: 14720383.0000 - mae: 2251.6270 - val_loss: 264715264.0000 - val_mae: 15624.2148\n",
      "Epoch 3/100\n",
      "63/63 [==============================] - 0s 8ms/step - loss: 13542796.0000 - mae: 2154.0044 - val_loss: 80467632.0000 - val_mae: 8372.6680\n",
      "Epoch 4/100\n",
      "63/63 [==============================] - 0s 7ms/step - loss: 13246100.0000 - mae: 2097.3557 - val_loss: 31572842.0000 - val_mae: 4706.6504\n",
      "Epoch 5/100\n",
      "63/63 [==============================] - 0s 7ms/step - loss: 12008165.0000 - mae: 2000.1896 - val_loss: 17432296.0000 - val_mae: 3022.9167\n",
      "Epoch 6/100\n",
      "63/63 [==============================] - 0s 7ms/step - loss: 11159635.0000 - mae: 1902.7601 - val_loss: 16299861.0000 - val_mae: 2810.6206\n",
      "Epoch 7/100\n",
      "63/63 [==============================] - 0s 7ms/step - loss: 11985455.0000 - mae: 1999.5103 - val_loss: 30311864.0000 - val_mae: 4465.1553\n",
      "Epoch 8/100\n",
      "63/63 [==============================] - 0s 7ms/step - loss: 12098293.0000 - mae: 1988.3865 - val_loss: 13575651.0000 - val_mae: 2546.9333\n",
      "Epoch 9/100\n",
      "63/63 [==============================] - 0s 7ms/step - loss: 9962023.0000 - mae: 1760.4159 - val_loss: 12917203.0000 - val_mae: 2480.2434\n",
      "Epoch 10/100\n",
      "63/63 [==============================] - 0s 7ms/step - loss: 10435857.0000 - mae: 1804.6390 - val_loss: 12815535.0000 - val_mae: 2448.4836\n",
      "Epoch 11/100\n",
      "63/63 [==============================] - 0s 8ms/step - loss: 9355313.0000 - mae: 1668.9364 - val_loss: 15693525.0000 - val_mae: 2769.7537\n",
      "Epoch 12/100\n",
      "63/63 [==============================] - 0s 8ms/step - loss: 11150643.0000 - mae: 1897.1260 - val_loss: 11325114.0000 - val_mae: 2033.9358\n",
      "Epoch 13/100\n",
      "63/63 [==============================] - 0s 8ms/step - loss: 9735266.0000 - mae: 1719.9076 - val_loss: 11324913.0000 - val_mae: 2242.0747\n",
      "Epoch 14/100\n",
      "63/63 [==============================] - 1s 12ms/step - loss: 9500234.0000 - mae: 1687.6980 - val_loss: 17188906.0000 - val_mae: 2684.2415\n",
      "Epoch 15/100\n",
      "63/63 [==============================] - 1s 10ms/step - loss: 8898068.0000 - mae: 1621.0735 - val_loss: 10315287.0000 - val_mae: 1896.7291\n",
      "Epoch 16/100\n",
      "63/63 [==============================] - 1s 8ms/step - loss: 9025626.0000 - mae: 1629.5560 - val_loss: 11591245.0000 - val_mae: 2171.0728\n",
      "Epoch 17/100\n",
      "63/63 [==============================] - 0s 8ms/step - loss: 9703576.0000 - mae: 1707.7419 - val_loss: 10905828.0000 - val_mae: 1993.2706\n",
      "Epoch 18/100\n",
      "63/63 [==============================] - 0s 8ms/step - loss: 8309278.0000 - mae: 1557.0598 - val_loss: 10232681.0000 - val_mae: 1826.7058\n",
      "Epoch 19/100\n",
      "63/63 [==============================] - 0s 8ms/step - loss: 8429149.0000 - mae: 1555.1084 - val_loss: 10527521.0000 - val_mae: 1853.5831\n",
      "Epoch 20/100\n",
      "63/63 [==============================] - 1s 10ms/step - loss: 9223843.0000 - mae: 1649.4395 - val_loss: 17690708.0000 - val_mae: 2676.6458\n",
      "Epoch 21/100\n",
      "63/63 [==============================] - 1s 11ms/step - loss: 8993786.0000 - mae: 1633.3113 - val_loss: 10228456.0000 - val_mae: 1751.0927\n",
      "Epoch 22/100\n",
      "63/63 [==============================] - 1s 8ms/step - loss: 7871043.5000 - mae: 1490.5387 - val_loss: 9519921.0000 - val_mae: 1555.7080\n",
      "Epoch 23/100\n",
      "63/63 [==============================] - 1s 8ms/step - loss: 7697260.5000 - mae: 1448.8499 - val_loss: 9840734.0000 - val_mae: 1757.6455\n",
      "Epoch 24/100\n",
      "63/63 [==============================] - 1s 8ms/step - loss: 7585431.5000 - mae: 1437.2705 - val_loss: 9427824.0000 - val_mae: 1596.8856\n",
      "Epoch 25/100\n",
      "63/63 [==============================] - 0s 8ms/step - loss: 7906089.0000 - mae: 1492.4329 - val_loss: 11156704.0000 - val_mae: 1912.8744\n",
      "Epoch 26/100\n",
      "63/63 [==============================] - 0s 8ms/step - loss: 7523654.0000 - mae: 1449.7386 - val_loss: 9934779.0000 - val_mae: 1792.7458\n",
      "Epoch 27/100\n",
      "63/63 [==============================] - 0s 7ms/step - loss: 7900856.0000 - mae: 1507.5629 - val_loss: 10514273.0000 - val_mae: 1825.3070\n",
      "Epoch 28/100\n",
      "63/63 [==============================] - 0s 7ms/step - loss: 7271781.5000 - mae: 1408.8822 - val_loss: 9874813.0000 - val_mae: 1631.4653\n",
      "Epoch 29/100\n",
      "63/63 [==============================] - 0s 7ms/step - loss: 7272194.0000 - mae: 1405.5035 - val_loss: 11271432.0000 - val_mae: 1796.1049\n",
      "Epoch 30/100\n",
      "63/63 [==============================] - 0s 8ms/step - loss: 8375401.0000 - mae: 1573.6890 - val_loss: 10774942.0000 - val_mae: 1940.0850\n",
      "Epoch 31/100\n",
      "63/63 [==============================] - 0s 7ms/step - loss: 7824103.5000 - mae: 1499.0432 - val_loss: 17322414.0000 - val_mae: 2504.0198\n",
      "Epoch 32/100\n",
      "63/63 [==============================] - 0s 7ms/step - loss: 7902866.0000 - mae: 1505.9357 - val_loss: 9810714.0000 - val_mae: 1623.0127\n",
      "Epoch 33/100\n",
      "63/63 [==============================] - 0s 7ms/step - loss: 6896479.5000 - mae: 1360.6083 - val_loss: 9611009.0000 - val_mae: 1615.5968\n",
      "Epoch 34/100\n",
      "63/63 [==============================] - 0s 7ms/step - loss: 7335313.5000 - mae: 1415.2883 - val_loss: 9632710.0000 - val_mae: 1651.3824\n",
      "Epoch 35/100\n",
      "63/63 [==============================] - 0s 7ms/step - loss: 6566970.5000 - mae: 1297.8110 - val_loss: 9843242.0000 - val_mae: 1755.2407\n",
      "Epoch 36/100\n",
      "63/63 [==============================] - 0s 7ms/step - loss: 6527198.5000 - mae: 1301.0864 - val_loss: 9416093.0000 - val_mae: 1573.4952\n",
      "Epoch 37/100\n",
      "63/63 [==============================] - 0s 7ms/step - loss: 6625624.5000 - mae: 1317.5774 - val_loss: 9474975.0000 - val_mae: 1532.6035\n",
      "Epoch 38/100\n",
      "63/63 [==============================] - 0s 7ms/step - loss: 7367686.5000 - mae: 1436.9556 - val_loss: 9589558.0000 - val_mae: 1580.7375\n",
      "Epoch 39/100\n",
      "63/63 [==============================] - 0s 7ms/step - loss: 6648821.5000 - mae: 1318.2975 - val_loss: 10376647.0000 - val_mae: 1787.9987\n",
      "Epoch 40/100\n",
      "63/63 [==============================] - 0s 7ms/step - loss: 7133464.5000 - mae: 1385.7927 - val_loss: 12639176.0000 - val_mae: 2123.8179\n",
      "Epoch 41/100\n",
      "63/63 [==============================] - 0s 7ms/step - loss: 7009362.0000 - mae: 1384.0387 - val_loss: 10793298.0000 - val_mae: 1721.1492\n",
      "Epoch 42/100\n",
      "63/63 [==============================] - 0s 7ms/step - loss: 6804590.5000 - mae: 1331.7214 - val_loss: 9696669.0000 - val_mae: 1613.1066\n",
      "Epoch 43/100\n",
      "63/63 [==============================] - 1s 10ms/step - loss: 6521531.0000 - mae: 1307.1244 - val_loss: 9632167.0000 - val_mae: 1564.5065\n",
      "Epoch 44/100\n",
      "63/63 [==============================] - 1s 9ms/step - loss: 6724977.0000 - mae: 1347.0217 - val_loss: 11230496.0000 - val_mae: 1820.8116\n",
      "Epoch 45/100\n",
      "63/63 [==============================] - 0s 7ms/step - loss: 6521482.5000 - mae: 1313.2728 - val_loss: 9661049.0000 - val_mae: 1581.7856\n",
      "Epoch 46/100\n",
      "63/63 [==============================] - 0s 7ms/step - loss: 6560090.5000 - mae: 1304.7672 - val_loss: 9788497.0000 - val_mae: 1658.5073\n",
      "Epoch 47/100\n",
      "63/63 [==============================] - 0s 7ms/step - loss: 6611722.0000 - mae: 1320.4340 - val_loss: 9422099.0000 - val_mae: 1494.7534\n",
      "Epoch 48/100\n",
      "63/63 [==============================] - 0s 7ms/step - loss: 6572981.0000 - mae: 1329.8019 - val_loss: 10746803.0000 - val_mae: 1841.3760\n",
      "Epoch 49/100\n",
      "63/63 [==============================] - 0s 7ms/step - loss: 6339664.5000 - mae: 1284.2618 - val_loss: 9570961.0000 - val_mae: 1555.7213\n",
      "Epoch 50/100\n",
      "63/63 [==============================] - 0s 7ms/step - loss: 6017738.5000 - mae: 1230.7460 - val_loss: 10060931.0000 - val_mae: 1712.8593\n",
      "Epoch 51/100\n",
      "63/63 [==============================] - 0s 8ms/step - loss: 6204734.5000 - mae: 1260.8311 - val_loss: 9614217.0000 - val_mae: 1603.2771\n",
      "Epoch 52/100\n",
      "63/63 [==============================] - 1s 8ms/step - loss: 5992996.5000 - mae: 1229.6040 - val_loss: 9436305.0000 - val_mae: 1547.8370\n",
      "Epoch 53/100\n",
      "63/63 [==============================] - 0s 8ms/step - loss: 5856357.5000 - mae: 1211.3719 - val_loss: 9590609.0000 - val_mae: 1559.3810\n",
      "Epoch 54/100\n",
      "63/63 [==============================] - 0s 7ms/step - loss: 5897603.5000 - mae: 1217.3779 - val_loss: 9537754.0000 - val_mae: 1572.8247\n",
      "Epoch 55/100\n",
      "63/63 [==============================] - 0s 8ms/step - loss: 6045947.0000 - mae: 1241.8680 - val_loss: 9508530.0000 - val_mae: 1507.7122\n",
      "Epoch 56/100\n",
      "63/63 [==============================] - 0s 8ms/step - loss: 5883378.0000 - mae: 1216.1831 - val_loss: 9684674.0000 - val_mae: 1551.4745\n",
      "Epoch 57/100\n",
      "63/63 [==============================] - 0s 7ms/step - loss: 5765833.5000 - mae: 1200.6097 - val_loss: 9452748.0000 - val_mae: 1502.0272\n",
      "Epoch 58/100\n",
      "63/63 [==============================] - 0s 7ms/step - loss: 5688888.5000 - mae: 1170.6624 - val_loss: 10268306.0000 - val_mae: 1724.9485\n",
      "Epoch 59/100\n",
      "63/63 [==============================] - 0s 7ms/step - loss: 5686685.5000 - mae: 1187.7794 - val_loss: 9443892.0000 - val_mae: 1507.3137\n",
      "Epoch 60/100\n",
      "63/63 [==============================] - 0s 7ms/step - loss: 5766330.0000 - mae: 1199.5042 - val_loss: 9887038.0000 - val_mae: 1619.3942\n",
      "Epoch 61/100\n",
      "63/63 [==============================] - 0s 7ms/step - loss: 6111182.0000 - mae: 1260.0067 - val_loss: 9415912.0000 - val_mae: 1493.1814\n",
      "Epoch 62/100\n",
      "63/63 [==============================] - 0s 7ms/step - loss: 5860183.5000 - mae: 1216.6625 - val_loss: 9464461.0000 - val_mae: 1489.6191\n",
      "Epoch 63/100\n",
      "63/63 [==============================] - 0s 7ms/step - loss: 5573216.5000 - mae: 1163.3040 - val_loss: 9907974.0000 - val_mae: 1642.8947\n",
      "Epoch 64/100\n",
      "63/63 [==============================] - 0s 7ms/step - loss: 5874124.5000 - mae: 1220.2357 - val_loss: 10275677.0000 - val_mae: 1632.4812\n",
      "Epoch 65/100\n",
      "63/63 [==============================] - 0s 7ms/step - loss: 5952112.5000 - mae: 1244.3152 - val_loss: 9461528.0000 - val_mae: 1531.6600\n",
      "Epoch 66/100\n",
      "63/63 [==============================] - 1s 10ms/step - loss: 5547929.5000 - mae: 1165.4694 - val_loss: 9656076.0000 - val_mae: 1581.8652\n",
      "Epoch 67/100\n",
      "63/63 [==============================] - 0s 8ms/step - loss: 5712613.5000 - mae: 1208.1106 - val_loss: 9487564.0000 - val_mae: 1483.0576\n",
      "Epoch 68/100\n",
      "63/63 [==============================] - 0s 7ms/step - loss: 5505852.0000 - mae: 1160.9502 - val_loss: 9394166.0000 - val_mae: 1490.5322\n",
      "Epoch 69/100\n",
      "63/63 [==============================] - 0s 7ms/step - loss: 5534268.5000 - mae: 1180.2278 - val_loss: 9598369.0000 - val_mae: 1502.0251\n",
      "Epoch 70/100\n",
      "63/63 [==============================] - 0s 7ms/step - loss: 5463581.0000 - mae: 1147.6333 - val_loss: 9931006.0000 - val_mae: 1634.7291\n",
      "Epoch 71/100\n",
      "63/63 [==============================] - 0s 7ms/step - loss: 5803952.0000 - mae: 1231.9452 - val_loss: 9432057.0000 - val_mae: 1475.4380\n",
      "Epoch 72/100\n",
      "63/63 [==============================] - 0s 7ms/step - loss: 5543392.0000 - mae: 1184.0709 - val_loss: 9771353.0000 - val_mae: 1608.8416\n",
      "Epoch 73/100\n",
      "63/63 [==============================] - 0s 7ms/step - loss: 5445747.0000 - mae: 1158.9961 - val_loss: 9581001.0000 - val_mae: 1519.4868\n",
      "Epoch 74/100\n",
      "63/63 [==============================] - 0s 7ms/step - loss: 5431572.0000 - mae: 1137.6473 - val_loss: 9518270.0000 - val_mae: 1500.0317\n",
      "Epoch 75/100\n",
      "63/63 [==============================] - 0s 7ms/step - loss: 5367131.0000 - mae: 1141.1594 - val_loss: 9709440.0000 - val_mae: 1572.3374\n",
      "Epoch 76/100\n",
      "63/63 [==============================] - 0s 7ms/step - loss: 5275117.0000 - mae: 1130.8010 - val_loss: 9686074.0000 - val_mae: 1543.2147\n",
      "Epoch 77/100\n",
      "63/63 [==============================] - 0s 8ms/step - loss: 5336219.0000 - mae: 1144.7792 - val_loss: 9563423.0000 - val_mae: 1534.9478\n",
      "Epoch 78/100\n",
      "63/63 [==============================] - 1s 11ms/step - loss: 5444042.5000 - mae: 1152.3771 - val_loss: 9474183.0000 - val_mae: 1472.3047\n",
      "Epoch 79/100\n",
      "63/63 [==============================] - 1s 11ms/step - loss: 5217785.0000 - mae: 1114.8199 - val_loss: 9537385.0000 - val_mae: 1484.1580\n",
      "Epoch 80/100\n",
      "63/63 [==============================] - 0s 7ms/step - loss: 5309243.5000 - mae: 1127.4485 - val_loss: 9966793.0000 - val_mae: 1638.3027\n",
      "Epoch 81/100\n",
      "63/63 [==============================] - 0s 7ms/step - loss: 5269889.5000 - mae: 1125.3867 - val_loss: 9660881.0000 - val_mae: 1561.1029\n",
      "Epoch 82/100\n",
      "63/63 [==============================] - 0s 7ms/step - loss: 5307555.0000 - mae: 1137.0209 - val_loss: 9541958.0000 - val_mae: 1492.9558\n",
      "Epoch 83/100\n",
      "63/63 [==============================] - 0s 7ms/step - loss: 5212748.5000 - mae: 1121.2782 - val_loss: 9505969.0000 - val_mae: 1485.7435\n",
      "Epoch 84/100\n",
      "63/63 [==============================] - 0s 7ms/step - loss: 5236553.0000 - mae: 1129.7179 - val_loss: 9552094.0000 - val_mae: 1488.2990\n",
      "Epoch 85/100\n",
      "63/63 [==============================] - 0s 7ms/step - loss: 5329428.0000 - mae: 1144.7427 - val_loss: 9525287.0000 - val_mae: 1490.3518\n",
      "Epoch 86/100\n",
      "63/63 [==============================] - 0s 7ms/step - loss: 5343479.5000 - mae: 1142.2623 - val_loss: 9594748.0000 - val_mae: 1481.3336\n",
      "Epoch 87/100\n",
      "63/63 [==============================] - 0s 7ms/step - loss: 5115002.0000 - mae: 1087.7729 - val_loss: 9480699.0000 - val_mae: 1489.4280\n",
      "Epoch 88/100\n",
      "63/63 [==============================] - 1s 10ms/step - loss: 5157790.0000 - mae: 1100.5865 - val_loss: 9963655.0000 - val_mae: 1619.8434\n",
      "Epoch 89/100\n",
      "63/63 [==============================] - 1s 8ms/step - loss: 5263881.5000 - mae: 1137.1964 - val_loss: 9670430.0000 - val_mae: 1547.4252\n",
      "Epoch 90/100\n",
      "63/63 [==============================] - 0s 7ms/step - loss: 5182380.5000 - mae: 1114.2604 - val_loss: 9567360.0000 - val_mae: 1489.5371\n",
      "Epoch 91/100\n",
      "63/63 [==============================] - 0s 7ms/step - loss: 5109152.5000 - mae: 1108.9534 - val_loss: 9644683.0000 - val_mae: 1515.0203\n",
      "Epoch 92/100\n",
      "63/63 [==============================] - 0s 7ms/step - loss: 5244739.5000 - mae: 1130.1827 - val_loss: 9747343.0000 - val_mae: 1565.0475\n",
      "Epoch 93/100\n",
      "63/63 [==============================] - 0s 7ms/step - loss: 5189782.5000 - mae: 1120.1332 - val_loss: 9651994.0000 - val_mae: 1533.1042\n",
      "Epoch 94/100\n",
      "63/63 [==============================] - 0s 7ms/step - loss: 5205806.0000 - mae: 1129.6561 - val_loss: 9732507.0000 - val_mae: 1561.1327\n",
      "Epoch 95/100\n",
      "63/63 [==============================] - 0s 7ms/step - loss: 5202781.5000 - mae: 1128.0736 - val_loss: 9542363.0000 - val_mae: 1488.4423\n",
      "Epoch 96/100\n",
      "63/63 [==============================] - 0s 8ms/step - loss: 5060108.5000 - mae: 1088.6498 - val_loss: 9570489.0000 - val_mae: 1494.6412\n",
      "Epoch 97/100\n",
      "63/63 [==============================] - 0s 7ms/step - loss: 5113057.5000 - mae: 1102.9960 - val_loss: 9504686.0000 - val_mae: 1475.7954\n",
      "Epoch 98/100\n",
      "63/63 [==============================] - 0s 7ms/step - loss: 5066932.0000 - mae: 1097.2230 - val_loss: 9506971.0000 - val_mae: 1480.0532\n",
      "Epoch 99/100\n",
      "63/63 [==============================] - 0s 7ms/step - loss: 4997093.5000 - mae: 1081.2986 - val_loss: 9506365.0000 - val_mae: 1485.1010\n",
      "Epoch 100/100\n",
      "63/63 [==============================] - 0s 7ms/step - loss: 5074719.5000 - mae: 1108.3997 - val_loss: 9669530.0000 - val_mae: 1544.4791\n"
     ]
    }
   ],
   "source": [
    "#fit dei dati  con i dati di training, i prezzi e dati di validazione, in questo modo ho una prima stima dell'errore di generalizzazione\n",
    "history = model.fit(\n",
    "    X_train, y_train,\n",
    "    validation_data = (X_vald, y_vald),\n",
    "    epochs = epochs,\n",
    "    batch_size = batch_size,\n",
    "    verbose = 1\n",
    ")"
   ]
  },
  {
   "cell_type": "code",
   "execution_count": 26,
   "id": "5ce639c4",
   "metadata": {
    "execution": {
     "iopub.execute_input": "2022-09-13T14:59:48.624899Z",
     "iopub.status.busy": "2022-09-13T14:59:48.624551Z",
     "iopub.status.idle": "2022-09-13T14:59:50.155606Z",
     "shell.execute_reply": "2022-09-13T14:59:50.154218Z"
    },
    "executionInfo": {
     "elapsed": 2270,
     "status": "ok",
     "timestamp": 1658761268614,
     "user": {
      "displayName": "Carola Maria Caivano",
      "userId": "01625777968997829192"
     },
     "user_tz": -120
    },
    "id": "HlD5ODBQbGE8",
    "papermill": {
     "duration": 1.601476,
     "end_time": "2022-09-13T14:59:50.158414",
     "exception": false,
     "start_time": "2022-09-13T14:59:48.556938",
     "status": "completed"
    },
    "tags": []
   },
   "outputs": [
    {
     "name": "stdout",
     "output_type": "stream",
     "text": [
      "[9669533.0, 1544.4801025390625]\n"
     ]
    }
   ],
   "source": [
    "scores=model.evaluate(X_vald, y_vald, verbose=0)\n",
    "print(scores)"
   ]
  },
  {
   "cell_type": "code",
   "execution_count": 27,
   "id": "b552ed52",
   "metadata": {
    "execution": {
     "iopub.execute_input": "2022-09-13T14:59:50.296460Z",
     "iopub.status.busy": "2022-09-13T14:59:50.295747Z",
     "iopub.status.idle": "2022-09-13T14:59:50.303978Z",
     "shell.execute_reply": "2022-09-13T14:59:50.302657Z"
    },
    "papermill": {
     "duration": 0.080538,
     "end_time": "2022-09-13T14:59:50.306645",
     "exception": false,
     "start_time": "2022-09-13T14:59:50.226107",
     "status": "completed"
    },
    "tags": []
   },
   "outputs": [],
   "source": [
    "def plot_loss_and_score(history):\n",
    "    fig, axs = plt.subplots(2, figsize=(7, 10))\n",
    "    axs[0].plot(history.history['loss'], label='training')\n",
    "    axs[0].plot(history.history['val_loss'], label='validation')\n",
    "    axs[0].set_title('Loss Plot')\n",
    "    axs[0].set_ylabel('Loss')\n",
    "    axs[0].set_xlabel('Epoch')\n",
    "    axs[0].set_yscale('log')\n",
    "    axs[0].legend(loc='upper right')\n",
    "\n",
    "    axs[1].plot(history.history['mae'], label='training')\n",
    "    axs[1].plot(history.history['val_mae'], label='validation')\n",
    "    axs[1].set_title('MAE Plot')\n",
    "    axs[1].set_ylabel('MAE')\n",
    "    axs[1].set_xlabel('Epoch')\n",
    "    axs[1].set_yscale('log')\n",
    "    axs[1].legend(loc='lower right')\n",
    "    \n",
    "    plt.show()"
   ]
  },
  {
   "cell_type": "code",
   "execution_count": 28,
   "id": "06fff7c5",
   "metadata": {
    "execution": {
     "iopub.execute_input": "2022-09-13T14:59:50.443132Z",
     "iopub.status.busy": "2022-09-13T14:59:50.441249Z",
     "iopub.status.idle": "2022-09-13T14:59:51.451921Z",
     "shell.execute_reply": "2022-09-13T14:59:51.451070Z"
    },
    "papermill": {
     "duration": 1.079601,
     "end_time": "2022-09-13T14:59:51.453939",
     "exception": false,
     "start_time": "2022-09-13T14:59:50.374338",
     "status": "completed"
    },
    "tags": []
   },
   "outputs": [
    {
     "data": {
      "image/png": "[encoded data removed]",
      "text/plain": [
       "<Figure size 504x720 with 2 Axes>"
      ]
     },
     "metadata": {},
     "output_type": "display_data"
    }
   ],
   "source": [
    "plot_loss_and_score(history)"
   ]
  },
  {
   "cell_type": "markdown",
   "id": "f79829e1",
   "metadata": {
    "papermill": {
     "duration": 0.067087,
     "end_time": "2022-09-13T14:59:51.588970",
     "exception": false,
     "start_time": "2022-09-13T14:59:51.521883",
     "status": "completed"
    },
    "tags": []
   },
   "source": [
    "### 4.2 Risultati sul Test Set"
   ]
  },
  {
   "cell_type": "code",
   "execution_count": 29,
   "id": "90f65f60",
   "metadata": {
    "execution": {
     "iopub.execute_input": "2022-09-13T14:59:51.725647Z",
     "iopub.status.busy": "2022-09-13T14:59:51.724776Z",
     "iopub.status.idle": "2022-09-13T14:59:53.387316Z",
     "shell.execute_reply": "2022-09-13T14:59:53.385643Z"
    },
    "papermill": {
     "duration": 1.735401,
     "end_time": "2022-09-13T14:59:53.391388",
     "exception": false,
     "start_time": "2022-09-13T14:59:51.655987",
     "status": "completed"
    },
    "tags": []
   },
   "outputs": [
    {
     "name": "stdout",
     "output_type": "stream",
     "text": [
      "Results on test set:\n",
      "R2:  0.9807\n",
      "MAE:  1563\n"
     ]
    }
   ],
   "source": [
    "from sklearn.metrics import mean_absolute_error, r2_score\n",
    "\n",
    "y_pred = model.predict(X_test)\n",
    "score_r2 = r2_score(y_test, y_pred)\n",
    "score_mae = mean_absolute_error(y_test, y_pred)\n",
    "print('Results on test set:')\n",
    "print('R2: ', round(score_r2,4))\n",
    "print('MAE: ', round(score_mae))"
   ]
  },
  {
   "cell_type": "code",
   "execution_count": 30,
   "id": "1e33e060",
   "metadata": {
    "execution": {
     "iopub.execute_input": "2022-09-13T14:59:53.622353Z",
     "iopub.status.busy": "2022-09-13T14:59:53.621869Z",
     "iopub.status.idle": "2022-09-13T14:59:53.986139Z",
     "shell.execute_reply": "2022-09-13T14:59:53.985035Z"
    },
    "papermill": {
     "duration": 0.474003,
     "end_time": "2022-09-13T14:59:53.988247",
     "exception": false,
     "start_time": "2022-09-13T14:59:53.514244",
     "status": "completed"
    },
    "tags": []
   },
   "outputs": [
    {
     "data": {
      "image/png": "[encoded data removed]",
      "text/plain": [
       "<Figure size 576x576 with 1 Axes>"
      ]
     },
     "metadata": {},
     "output_type": "display_data"
    }
   ],
   "source": [
    "fig,ax = plt.subplots(figsize=(8,8))\n",
    "ax.set_title(\"price\",fontsize=16)\n",
    "ax.set_ylabel('Test Predicted price',fontsize=12)\n",
    "ax.set_xlabel('Test Actual price',fontsize=12)\n",
    "ax.scatter(y_test,y_pred)\n",
    "\n",
    "plt.text(70000,15000,'$ R^{2} $=' + str(round(score_r2, 4)), fontsize=16)\n",
    "plt.text(70000,10000,'MAE =' + str(round(score_mae)), fontsize=16)\n",
    "plt.show()"
   ]
  },
  {
   "cell_type": "markdown",
   "id": "ae26433c",
   "metadata": {
    "papermill": {
     "duration": 0.067105,
     "end_time": "2022-09-13T14:59:54.124606",
     "exception": false,
     "start_time": "2022-09-13T14:59:54.057501",
     "status": "completed"
    },
    "tags": []
   },
   "source": [
    "Si osserva che lo score ottenuto usando 1/3 dei dati è già comparabile al risultato ottenuto dal team che ha utilizzato ensemble di modelli classici.  \n",
    "Eseguendo diverse run e esplorando lo spazio degli iperparametri si può migliorare ancora questo score.  \n",
    "Inoltre bisogna anche vedere quanto migliora la performance della rete usando tutti i dati (in locale).  \n",
    "Di seguito si mostra uno screenshot dei risultati ottenuti dal team con modelli classici."
   ]
  },
  {
   "attachments": {
    "5a6c97c4-dc4c-4f14-8300-42c68f5faf7b.png": {
     "image/png": "[encoded data removed]"
    }
   },
   "cell_type": "markdown",
   "id": "b40ac3a2",
   "metadata": {
    "papermill": {
     "duration": 0.067238,
     "end_time": "2022-09-13T14:59:54.258864",
     "exception": false,
     "start_time": "2022-09-13T14:59:54.191626",
     "status": "completed"
    },
    "tags": []
   },
   "source": [
    "![image.png](attachment:5a6c97c4-dc4c-4f14-8300-42c68f5faf7b.png)"
   ]
  },
  {
   "cell_type": "markdown",
   "id": "ce84757e",
   "metadata": {
    "papermill": {
     "duration": 0.068922,
     "end_time": "2022-09-13T14:59:54.407786",
     "exception": false,
     "start_time": "2022-09-13T14:59:54.338864",
     "status": "completed"
    },
    "tags": []
   },
   "source": [
    "### 4.3 Plot degli score per diverse run singole (diversi iperparametri)\n",
    "In questa sezione vengono importati dei file con gli score ottenuti dall'addestramento della rete con diversi valori degli iperparametri in modo da scegliere la combinazione migliore."
   ]
  },
  {
   "cell_type": "code",
   "execution_count": 31,
   "id": "a1ad1e05",
   "metadata": {
    "execution": {
     "iopub.execute_input": "2022-09-13T14:59:54.544421Z",
     "iopub.status.busy": "2022-09-13T14:59:54.543998Z",
     "iopub.status.idle": "2022-09-13T14:59:54.658805Z",
     "shell.execute_reply": "2022-09-13T14:59:54.657901Z"
    },
    "papermill": {
     "duration": 0.18613,
     "end_time": "2022-09-13T14:59:54.661259",
     "exception": false,
     "start_time": "2022-09-13T14:59:54.475129",
     "status": "completed"
    },
    "tags": []
   },
   "outputs": [],
   "source": [
    "df_uniform = pd.read_excel('../input/valori-scores/Valori_score_uniform.ods',engine='odf')\n",
    "df_lecun_uniform = pd.read_excel('../input/valori-scores/Valori_score_lecun_uniform.ods',engine='odf')\n",
    "df_normal = pd.read_excel('../input/valori-scores/Valori_score_normal.ods',engine='odf')\n",
    "#display(df_uniform)"
   ]
  },
  {
   "cell_type": "code",
   "execution_count": 32,
   "id": "9aef510d",
   "metadata": {
    "execution": {
     "iopub.execute_input": "2022-09-13T14:59:54.799635Z",
     "iopub.status.busy": "2022-09-13T14:59:54.798945Z",
     "iopub.status.idle": "2022-09-13T14:59:54.804831Z",
     "shell.execute_reply": "2022-09-13T14:59:54.803798Z"
    },
    "papermill": {
     "duration": 0.077556,
     "end_time": "2022-09-13T14:59:54.807328",
     "exception": false,
     "start_time": "2022-09-13T14:59:54.729772",
     "status": "completed"
    },
    "tags": []
   },
   "outputs": [
    {
     "name": "stdout",
     "output_type": "stream",
     "text": [
      "[ 256  512 1024 2048]\n"
     ]
    }
   ],
   "source": [
    "print(df_uniform['batch_size'].unique())"
   ]
  },
  {
   "cell_type": "code",
   "execution_count": 33,
   "id": "d4958e05",
   "metadata": {
    "execution": {
     "iopub.execute_input": "2022-09-13T14:59:54.944265Z",
     "iopub.status.busy": "2022-09-13T14:59:54.943521Z",
     "iopub.status.idle": "2022-09-13T14:59:54.948145Z",
     "shell.execute_reply": "2022-09-13T14:59:54.947119Z"
    },
    "papermill": {
     "duration": 0.076166,
     "end_time": "2022-09-13T14:59:54.950277",
     "exception": false,
     "start_time": "2022-09-13T14:59:54.874111",
     "status": "completed"
    },
    "tags": []
   },
   "outputs": [],
   "source": [
    "from matplotlib import pyplot"
   ]
  },
  {
   "cell_type": "code",
   "execution_count": 34,
   "id": "438e7406",
   "metadata": {
    "execution": {
     "iopub.execute_input": "2022-09-13T14:59:55.088352Z",
     "iopub.status.busy": "2022-09-13T14:59:55.087739Z",
     "iopub.status.idle": "2022-09-13T14:59:55.096473Z",
     "shell.execute_reply": "2022-09-13T14:59:55.095397Z"
    },
    "papermill": {
     "duration": 0.08112,
     "end_time": "2022-09-13T14:59:55.099038",
     "exception": false,
     "start_time": "2022-09-13T14:59:55.017918",
     "status": "completed"
    },
    "tags": []
   },
   "outputs": [],
   "source": [
    "def plot_score_vs_lr_for_different_init_weights(df_scores):\n",
    "    plt.figure(figsize=(25,5))\n",
    "    \n",
    "    df_select = df_scores[df_scores['batch_size']==512]\n",
    "    plt.subplot(1,3,1)\n",
    "    x=df_select['learning_rate']\n",
    "    y=df_select['score']\n",
    "    plt.scatter(x,y)\n",
    "    plt.xlabel('learning_rate')\n",
    "    plt.ylabel('val_mae')\n",
    "    pyplot.yscale('log')\n",
    "    plt.title('Batch Size = 512')\n",
    "    \n",
    "    df_select=df_scores[df_scores['batch_size']==1024]\n",
    "    plt.subplot(1,3,2)\n",
    "    x=df_select['learning_rate']\n",
    "    y=df_select['score']\n",
    "    plt.scatter(x,y)\n",
    "    plt.xlabel('learning_rate')\n",
    "    plt.ylabel('val_mae')\n",
    "    pyplot.yscale('log')\n",
    "    plt.title('Batch Size = 1024')\n",
    "    \n",
    "    df_select=df_scores[df_scores['batch_size']==2048]\n",
    "    plt.subplot(1,3,3)\n",
    "    x=df_select['learning_rate']\n",
    "    y=df_select['score']\n",
    "    plt.scatter(x,y)\n",
    "    plt.xlabel('learning_rate')\n",
    "    plt.ylabel('val_mae')\n",
    "    pyplot.yscale('log')\n",
    "    plt.title('Batch Size = 2048')"
   ]
  },
  {
   "cell_type": "code",
   "execution_count": 35,
   "id": "6ffb892a",
   "metadata": {
    "execution": {
     "iopub.execute_input": "2022-09-13T14:59:55.237022Z",
     "iopub.status.busy": "2022-09-13T14:59:55.236086Z",
     "iopub.status.idle": "2022-09-13T14:59:56.195295Z",
     "shell.execute_reply": "2022-09-13T14:59:56.194346Z"
    },
    "papermill": {
     "duration": 1.030461,
     "end_time": "2022-09-13T14:59:56.197470",
     "exception": false,
     "start_time": "2022-09-13T14:59:55.167009",
     "status": "completed"
    },
    "tags": []
   },
   "outputs": [
    {
     "name": "stdout",
     "output_type": "stream",
     "text": [
      "--- Results Initializing Weights with Uniform Distribution ---\n"
     ]
    },
    {
     "data": {
      "image/png": "[encoded data removed]",
      "text/plain": [
       "<Figure size 1800x360 with 3 Axes>"
      ]
     },
     "metadata": {},
     "output_type": "display_data"
    }
   ],
   "source": [
    "print('--- Results Initializing Weights with Uniform Distribution ---')\n",
    "plot_score_vs_lr_for_different_init_weights(df_uniform)"
   ]
  },
  {
   "cell_type": "code",
   "execution_count": 36,
   "id": "5b989e9f",
   "metadata": {
    "execution": {
     "iopub.execute_input": "2022-09-13T14:59:56.338136Z",
     "iopub.status.busy": "2022-09-13T14:59:56.337755Z",
     "iopub.status.idle": "2022-09-13T14:59:57.233377Z",
     "shell.execute_reply": "2022-09-13T14:59:57.232497Z"
    },
    "papermill": {
     "duration": 0.968595,
     "end_time": "2022-09-13T14:59:57.235566",
     "exception": false,
     "start_time": "2022-09-13T14:59:56.266971",
     "status": "completed"
    },
    "tags": []
   },
   "outputs": [
    {
     "name": "stdout",
     "output_type": "stream",
     "text": [
      "--- Results Initializing Weights with Lecun-Uniform Distribution ---\n"
     ]
    },
    {
     "data": {
      "image/png": "[encoded data removed]",
      "text/plain": [
       "<Figure size 1800x360 with 3 Axes>"
      ]
     },
     "metadata": {},
     "output_type": "display_data"
    }
   ],
   "source": [
    "print('--- Results Initializing Weights with Lecun-Uniform Distribution ---')\n",
    "plot_score_vs_lr_for_different_init_weights(df_lecun_uniform)"
   ]
  },
  {
   "cell_type": "code",
   "execution_count": 37,
   "id": "e0536273",
   "metadata": {
    "execution": {
     "iopub.execute_input": "2022-09-13T14:59:57.377065Z",
     "iopub.status.busy": "2022-09-13T14:59:57.376015Z",
     "iopub.status.idle": "2022-09-13T14:59:58.342093Z",
     "shell.execute_reply": "2022-09-13T14:59:58.341126Z"
    },
    "papermill": {
     "duration": 1.038578,
     "end_time": "2022-09-13T14:59:58.344282",
     "exception": false,
     "start_time": "2022-09-13T14:59:57.305704",
     "status": "completed"
    },
    "tags": []
   },
   "outputs": [
    {
     "name": "stdout",
     "output_type": "stream",
     "text": [
      "--- Results Initializing Weights with Normal Distribution ---\n"
     ]
    },
    {
     "data": {
      "image/png": "[encoded data removed]",
      "text/plain": [
       "<Figure size 1800x360 with 3 Axes>"
      ]
     },
     "metadata": {},
     "output_type": "display_data"
    }
   ],
   "source": [
    "print('--- Results Initializing Weights with Normal Distribution ---')\n",
    "plot_score_vs_lr_for_different_init_weights(df_normal)"
   ]
  },
  {
   "cell_type": "markdown",
   "id": "a8124ff6",
   "metadata": {
    "papermill": {
     "duration": 0.069756,
     "end_time": "2022-09-13T14:59:58.536426",
     "exception": false,
     "start_time": "2022-09-13T14:59:58.466670",
     "status": "completed"
    },
    "tags": []
   },
   "source": [
    "Dall'ottimizzazione a mano, effettuata su un diverso numero di epoche (per quello qualche volta vi sono più punti per un singolo valore di learning rate), si osserva in generale che aumentando il learning rate e la batch size gli score mae di validation tendono ad abbassarsi.  \n",
    "Questo da un idea di dove concentrare la ricerca degli iperparametri migliori nella prossima sezione di ottimizzazione automatica, dove si esploreranno learning rate più alti."
   ]
  },
  {
   "cell_type": "markdown",
   "id": "2f862882",
   "metadata": {
    "papermill": {
     "duration": 0.072729,
     "end_time": "2022-09-13T14:59:58.677996",
     "exception": false,
     "start_time": "2022-09-13T14:59:58.605267",
     "status": "completed"
    },
    "tags": []
   },
   "source": [
    "### 4.4 Ottimizzazione automatica con Keras Tuner\n",
    "Si definisce il modello con gli iperparametri da ottimizzare. Nello studio condotto con tutti dati è stato direttamente usato questo metodo saltando quello manuale.\n",
    "Si è osservato che avere un grande learning rate, grande batch size e molte epoche per addestrare il modello aiuta nel migliorare lo score."
   ]
  },
  {
   "cell_type": "code",
   "execution_count": 38,
   "id": "71391d59",
   "metadata": {
    "execution": {
     "iopub.execute_input": "2022-09-13T14:59:58.826198Z",
     "iopub.status.busy": "2022-09-13T14:59:58.825828Z",
     "iopub.status.idle": "2022-09-13T14:59:58.935167Z",
     "shell.execute_reply": "2022-09-13T14:59:58.934229Z"
    },
    "papermill": {
     "duration": 0.182551,
     "end_time": "2022-09-13T14:59:58.937632",
     "exception": false,
     "start_time": "2022-09-13T14:59:58.755081",
     "status": "completed"
    },
    "tags": []
   },
   "outputs": [],
   "source": [
    "import keras_tuner as kt"
   ]
  },
  {
   "cell_type": "code",
   "execution_count": 39,
   "id": "c2ba0703",
   "metadata": {
    "execution": {
     "iopub.execute_input": "2022-09-13T14:59:59.077085Z",
     "iopub.status.busy": "2022-09-13T14:59:59.076743Z",
     "iopub.status.idle": "2022-09-13T14:59:59.088602Z",
     "shell.execute_reply": "2022-09-13T14:59:59.087710Z"
    },
    "papermill": {
     "duration": 0.084232,
     "end_time": "2022-09-13T14:59:59.090653",
     "exception": false,
     "start_time": "2022-09-13T14:59:59.006421",
     "status": "completed"
    },
    "tags": []
   },
   "outputs": [],
   "source": [
    "class RegressionHyperModel(kt.HyperModel):\n",
    "    \n",
    "    def init(self, input_shape):\n",
    "        self.input_shape = input_shape\n",
    "    \n",
    "    def build(self, hp):\n",
    "        # hprm: learning rate\n",
    "        hp_learning_rate = hp.Choice('learning_rate',values=[0.2,0.3,0.4,0.5])\n",
    "        \n",
    "\n",
    "        # hprm: dropout\n",
    "        #hp_dropout = hp.Choice('dropout', values=[0.10, 0.15, 0.20, 0.25])\n",
    "        \n",
    "        # hprm: regularizer\n",
    "        values_array = np.logspace(-4, 0, num=5) #1e-4 till 1e-0 --> 0.0001, 0.001, 0.01, 0.1, 1\n",
    "        values = values_array.tolist()\n",
    "        hp_reg = hp.Choice('reg', values=values, default = 0.01)\n",
    "        #hp_reg = 1e-5\n",
    "        \n",
    "        # hprm: init weights\n",
    "        # init_weights: ['uniform', 'lecun_uniform', 'normal', 'zero', 'glorot_normal', 'glorot_uniform', 'he_normal', 'he_uniform']\n",
    "        hp_init_weights = 'uniform'\n",
    "        #hp_init_weights=hp.Choice('init_weights',values=init_weights, default='uniform')\n",
    "        \n",
    "        model = Sequential(\n",
    "            [\n",
    "                Input(input_shape),\n",
    "                \n",
    "                Dense(256, activation = 'relu',\n",
    "                      kernel_initializer = hp_init_weights,\n",
    "                      kernel_regularizer = l2(hp_reg)),\n",
    "                \n",
    "                BatchNormalization(),\n",
    "                Dense(128, activation = 'relu',\n",
    "                      kernel_initializer = hp_init_weights,\n",
    "                      kernel_regularizer = l2(hp_reg)),\n",
    "                \n",
    "                BatchNormalization(),\n",
    "                Dense(64, activation = 'relu',\n",
    "                      kernel_initializer = hp_init_weights,\n",
    "                      kernel_regularizer = l2(hp_reg)),\n",
    "                \n",
    "                Dense(1) # last layer is output\n",
    "            ]\n",
    "        )\n",
    "        \n",
    "        lr_schedule = tf.keras.optimizers.schedules.ExponentialDecay(\n",
    "            initial_learning_rate = hp_learning_rate,\n",
    "            decay_steps = 10000,\n",
    "            decay_rate = hp_learning_rate / epochs\n",
    "        )\n",
    "        optimizer = tf.keras.optimizers.Adam(learning_rate=lr_schedule)\n",
    "        model.compile(optimizer=optimizer, loss='mse', metrics=['mae'])\n",
    "        \n",
    "        return model\n",
    "\n",
    "    def fit(self, hp, model, *args, **kwargs):\n",
    "        \n",
    "        # hprm: batch size\n",
    "        #hp_batch_size = hp.Choice('batch_size', values=[2048, 4096])\n",
    "        hp_batch_size = 1024\n",
    "        \n",
    "        return model.fit(\n",
    "            *args,\n",
    "            batch_size = hp_batch_size,\n",
    "            verbose=1,\n",
    "            **kwargs,\n",
    "        )\n",
    "\n",
    "epochs = 100\n",
    "input_shape = X_train.shape[1]\n",
    "regr_hprm_model = RegressionHyperModel(input_shape)"
   ]
  },
  {
   "cell_type": "code",
   "execution_count": 40,
   "id": "2c8c9dd7",
   "metadata": {
    "execution": {
     "iopub.execute_input": "2022-09-13T14:59:59.229824Z",
     "iopub.status.busy": "2022-09-13T14:59:59.229084Z",
     "iopub.status.idle": "2022-09-13T14:59:59.297039Z",
     "shell.execute_reply": "2022-09-13T14:59:59.295874Z"
    },
    "papermill": {
     "duration": 0.140659,
     "end_time": "2022-09-13T14:59:59.299800",
     "exception": false,
     "start_time": "2022-09-13T14:59:59.159141",
     "status": "completed"
    },
    "tags": []
   },
   "outputs": [
    {
     "name": "stdout",
     "output_type": "stream",
     "text": [
      "Search space summary\n",
      "Default search space size: 2\n",
      "learning_rate (Choice)\n",
      "{'default': 0.2, 'conditions': [], 'values': [0.2, 0.3, 0.4, 0.5], 'ordered': True}\n",
      "reg (Choice)\n",
      "{'default': 0.01, 'conditions': [], 'values': [0.0001, 0.001, 0.01, 0.1, 1.0], 'ordered': True}\n"
     ]
    }
   ],
   "source": [
    "tuner_rs = kt.RandomSearch(\n",
    "    regr_hprm_model,\n",
    "    objective='val_mae',\n",
    "    max_trials=3,\n",
    "    seed=1,\n",
    "    overwrite=True,\n",
    "    directory='my_dir',\n",
    "    project_name='tune_hypermodel'\n",
    ")\n",
    "tuner_rs.search_space_summary()"
   ]
  },
  {
   "cell_type": "code",
   "execution_count": 41,
   "id": "7e08df9c",
   "metadata": {
    "execution": {
     "iopub.execute_input": "2022-09-13T14:59:59.439410Z",
     "iopub.status.busy": "2022-09-13T14:59:59.438423Z",
     "iopub.status.idle": "2022-09-13T15:03:08.138765Z",
     "shell.execute_reply": "2022-09-13T15:03:08.137805Z"
    },
    "papermill": {
     "duration": 188.772508,
     "end_time": "2022-09-13T15:03:08.141076",
     "exception": false,
     "start_time": "2022-09-13T14:59:59.368568",
     "status": "completed"
    },
    "tags": []
   },
   "outputs": [
    {
     "name": "stdout",
     "output_type": "stream",
     "text": [
      "Trial 3 Complete [00h 00m 52s]\n",
      "val_mae: 1443.950927734375\n",
      "\n",
      "Best val_mae So Far: 1442.2392578125\n",
      "Total elapsed time: 00h 03m 08s\n"
     ]
    }
   ],
   "source": [
    "tuner_rs.search(X_train_vald, y_train_vald, epochs=epochs, validation_split=0.2)"
   ]
  },
  {
   "cell_type": "code",
   "execution_count": 42,
   "id": "552b1e18",
   "metadata": {
    "execution": {
     "iopub.execute_input": "2022-09-13T15:03:08.285047Z",
     "iopub.status.busy": "2022-09-13T15:03:08.281081Z",
     "iopub.status.idle": "2022-09-13T15:03:08.636971Z",
     "shell.execute_reply": "2022-09-13T15:03:08.634725Z"
    },
    "papermill": {
     "duration": 0.428284,
     "end_time": "2022-09-13T15:03:08.639243",
     "exception": false,
     "start_time": "2022-09-13T15:03:08.210959",
     "status": "completed"
    },
    "tags": []
   },
   "outputs": [
    {
     "name": "stdout",
     "output_type": "stream",
     "text": [
      "{'learning_rate': 0.3, 'reg': 0.0001}\n",
      "Model: \"sequential\"\n",
      "_________________________________________________________________\n",
      "Layer (type)                 Output Shape              Param #   \n",
      "=================================================================\n",
      "dense (Dense)                (None, 256)               394752    \n",
      "_________________________________________________________________\n",
      "batch_normalization (BatchNo (None, 256)               1024      \n",
      "_________________________________________________________________\n",
      "dense_1 (Dense)              (None, 128)               32896     \n",
      "_________________________________________________________________\n",
      "batch_normalization_1 (Batch (None, 128)               512       \n",
      "_________________________________________________________________\n",
      "dense_2 (Dense)              (None, 64)                8256      \n",
      "_________________________________________________________________\n",
      "dense_3 (Dense)              (None, 1)                 65        \n",
      "=================================================================\n",
      "Total params: 437,505\n",
      "Trainable params: 436,737\n",
      "Non-trainable params: 768\n",
      "_________________________________________________________________\n"
     ]
    }
   ],
   "source": [
    "best_hps= tuner_rs.get_best_hyperparameters()[0]\n",
    "print(best_hps.values)\n",
    "\n",
    "best_model = tuner_rs.get_best_models(num_models=1)[0]\n",
    "best_model.summary()"
   ]
  },
  {
   "cell_type": "code",
   "execution_count": 43,
   "id": "3fd61fd3",
   "metadata": {
    "execution": {
     "iopub.execute_input": "2022-09-13T15:03:08.777651Z",
     "iopub.status.busy": "2022-09-13T15:03:08.777299Z",
     "iopub.status.idle": "2022-09-13T15:03:08.783226Z",
     "shell.execute_reply": "2022-09-13T15:03:08.782142Z"
    },
    "papermill": {
     "duration": 0.079606,
     "end_time": "2022-09-13T15:03:08.786708",
     "exception": false,
     "start_time": "2022-09-13T15:03:08.707102",
     "status": "completed"
    },
    "tags": []
   },
   "outputs": [
    {
     "name": "stdout",
     "output_type": "stream",
     "text": [
      "Results summary\n",
      "Results in my_dir/tune_hypermodel\n",
      "Showing 3 best trials\n",
      "<keras_tuner.engine.objective.Objective object at 0x7f76c4b40150>\n",
      "Trial summary\n",
      "Hyperparameters:\n",
      "learning_rate: 0.3\n",
      "reg: 0.0001\n",
      "Score: 1442.2392578125\n",
      "Trial summary\n",
      "Hyperparameters:\n",
      "learning_rate: 0.4\n",
      "reg: 1.0\n",
      "Score: 1443.950927734375\n",
      "Trial summary\n",
      "Hyperparameters:\n",
      "learning_rate: 0.3\n",
      "reg: 0.001\n",
      "Score: 1472.2940673828125\n"
     ]
    }
   ],
   "source": [
    "summary = tuner_rs.results_summary(num_trials=3) # num_trials shows n best trials"
   ]
  },
  {
   "cell_type": "markdown",
   "id": "0efe0843",
   "metadata": {
    "papermill": {
     "duration": 0.067829,
     "end_time": "2022-09-13T15:03:08.922220",
     "exception": false,
     "start_time": "2022-09-13T15:03:08.854391",
     "status": "completed"
    },
    "tags": []
   },
   "source": [
    "# 5. Score finali\n",
    "In questa ultima sezione si discutono i risultati finali ottenuti addestrando la rete con meno dati e quella addestrata con tutti i dati.  \n",
    "Grazie a keras tuner si è esplorato lo spazio di iperparametri dato dai learning rate e dal coefficiente di regolarizzazione L2. Si è giunti alla conclusione che il **modello migliore allenato su 1/3 dei dati** è quello con:\n",
    "- learning_rate = 0.3\n",
    "- reg = 1.0  \n",
    "\n",
    "che hanno portato ad uno score di validazione:\n",
    "- $ R^2 = 0.9829 $\n",
    "- $ MAE = 1411 $\n",
    "\n",
    "Poi si sono usati questi valori per addestrare la **rete con tutti i dati** (rnd_state=1 in train test split) e lo score di validazione (48025 samples su 300153) ottenuto (aggiungendo anche il dropout al 10%) è stato:\n",
    "- $ R^2_{vald} = 0.9856 $\n",
    "- $ MAE_{vald} = 1328 $\n",
    "\n",
    "mentre lo score di testing (60031 samples su 300153) è stato:\n",
    "- $ R^2_{test} = 0.9862 $\n",
    "- $ MAE_{test} = 1308 $"
   ]
  },
  {
   "cell_type": "markdown",
   "id": "b31e43c0",
   "metadata": {
    "papermill": {
     "duration": 0.06963,
     "end_time": "2022-09-13T15:03:09.060417",
     "exception": false,
     "start_time": "2022-09-13T15:03:08.990787",
     "status": "completed"
    },
    "tags": []
   },
   "source": [
    "Si sono provati altri iperparametri per il modello allenato sul dataset completo e si è ottenuta performance migliore con gli iperparametri\n",
    "- learning_rate = 0.2\n",
    "- reg = 0.01\n",
    "\n",
    "Nelle seguenti celle si importa il modello salvato in locale e il dataset di testing."
   ]
  },
  {
   "cell_type": "code",
   "execution_count": 44,
   "id": "ed9d0cc8",
   "metadata": {
    "execution": {
     "iopub.execute_input": "2022-09-13T15:03:09.199678Z",
     "iopub.status.busy": "2022-09-13T15:03:09.199322Z",
     "iopub.status.idle": "2022-09-13T15:03:09.204053Z",
     "shell.execute_reply": "2022-09-13T15:03:09.203008Z"
    },
    "papermill": {
     "duration": 0.076846,
     "end_time": "2022-09-13T15:03:09.206467",
     "exception": false,
     "start_time": "2022-09-13T15:03:09.129621",
     "status": "completed"
    },
    "tags": []
   },
   "outputs": [],
   "source": [
    "# comando da usare solo in locale per salvare i modelli visto che kaggle è read-only\n",
    "#best_model.save('../input/saved-models/best_model_less_data')"
   ]
  },
  {
   "cell_type": "code",
   "execution_count": 45,
   "id": "6a3c99a1",
   "metadata": {
    "execution": {
     "iopub.execute_input": "2022-09-13T15:03:09.344752Z",
     "iopub.status.busy": "2022-09-13T15:03:09.344411Z",
     "iopub.status.idle": "2022-09-13T15:03:09.917833Z",
     "shell.execute_reply": "2022-09-13T15:03:09.916896Z"
    },
    "papermill": {
     "duration": 0.646514,
     "end_time": "2022-09-13T15:03:09.920823",
     "exception": false,
     "start_time": "2022-09-13T15:03:09.274309",
     "status": "completed"
    },
    "tags": []
   },
   "outputs": [],
   "source": [
    "# importare il modello migliore ottenuto in locale addestrandolo su tutti i dati\n",
    "imported_model = tf.keras.models.load_model('../input/best-model-full-data/model_lr02_bs2048_reg0.01')"
   ]
  },
  {
   "cell_type": "markdown",
   "id": "f3326fbc",
   "metadata": {
    "papermill": {
     "duration": 0.067429,
     "end_time": "2022-09-13T15:03:10.057362",
     "exception": false,
     "start_time": "2022-09-13T15:03:09.989933",
     "status": "completed"
    },
    "tags": []
   },
   "source": [
    "Il modello in locale è stato addestrato su tutti i dati ed è stato salvato in modo da poterlo importare su kaggle e per mostrare il risultato di questi modelli si importano direttamente i test set riferito al dataset completo."
   ]
  },
  {
   "cell_type": "code",
   "execution_count": 46,
   "id": "757bcfb9",
   "metadata": {
    "execution": {
     "iopub.execute_input": "2022-09-13T15:03:10.196461Z",
     "iopub.status.busy": "2022-09-13T15:03:10.195525Z",
     "iopub.status.idle": "2022-09-13T15:03:22.869518Z",
     "shell.execute_reply": "2022-09-13T15:03:22.868488Z"
    },
    "papermill": {
     "duration": 12.746734,
     "end_time": "2022-09-13T15:03:22.872645",
     "exception": false,
     "start_time": "2022-09-13T15:03:10.125911",
     "status": "completed"
    },
    "tags": []
   },
   "outputs": [],
   "source": [
    "df_X_test = pd.read_csv('../input/test-set-alldata/df_X_test.csv')\n",
    "df_y_test = pd.read_csv('../input/test-set-alldata/df_y_test.csv')\n",
    "\n",
    "df_X_test = df_X_test.drop(columns=['Unnamed: 0'])\n",
    "df_y_test = df_y_test.drop(columns=['Unnamed: 0'])"
   ]
  },
  {
   "cell_type": "code",
   "execution_count": 47,
   "id": "dd4284c0",
   "metadata": {
    "execution": {
     "iopub.execute_input": "2022-09-13T15:03:23.092601Z",
     "iopub.status.busy": "2022-09-13T15:03:23.092227Z",
     "iopub.status.idle": "2022-09-13T15:03:23.097166Z",
     "shell.execute_reply": "2022-09-13T15:03:23.096084Z"
    },
    "papermill": {
     "duration": 0.119207,
     "end_time": "2022-09-13T15:03:23.099533",
     "exception": false,
     "start_time": "2022-09-13T15:03:22.980326",
     "status": "completed"
    },
    "tags": []
   },
   "outputs": [],
   "source": [
    "X_Test = df_X_test.to_numpy()\n",
    "y_Test = df_y_test.to_numpy()"
   ]
  },
  {
   "cell_type": "code",
   "execution_count": 48,
   "id": "869b2092",
   "metadata": {
    "execution": {
     "iopub.execute_input": "2022-09-13T15:03:23.237839Z",
     "iopub.status.busy": "2022-09-13T15:03:23.236893Z",
     "iopub.status.idle": "2022-09-13T15:03:26.297170Z",
     "shell.execute_reply": "2022-09-13T15:03:26.296156Z"
    },
    "papermill": {
     "duration": 3.132493,
     "end_time": "2022-09-13T15:03:26.299719",
     "exception": false,
     "start_time": "2022-09-13T15:03:23.167226",
     "status": "completed"
    },
    "tags": []
   },
   "outputs": [],
   "source": [
    "y_pred = imported_model.predict(X_Test)"
   ]
  },
  {
   "cell_type": "code",
   "execution_count": 49,
   "id": "1a9c1858",
   "metadata": {
    "execution": {
     "iopub.execute_input": "2022-09-13T15:03:26.438401Z",
     "iopub.status.busy": "2022-09-13T15:03:26.437753Z",
     "iopub.status.idle": "2022-09-13T15:03:26.446754Z",
     "shell.execute_reply": "2022-09-13T15:03:26.445689Z"
    },
    "papermill": {
     "duration": 0.080402,
     "end_time": "2022-09-13T15:03:26.449289",
     "exception": false,
     "start_time": "2022-09-13T15:03:26.368887",
     "status": "completed"
    },
    "tags": []
   },
   "outputs": [
    {
     "name": "stdout",
     "output_type": "stream",
     "text": [
      "Results on test set (full data):\n",
      "R2:  0.9865\n",
      "MAE:  1262\n"
     ]
    }
   ],
   "source": [
    "score_r2 = r2_score(y_Test, y_pred)\n",
    "score_mae = mean_absolute_error(y_Test, y_pred)\n",
    "print('Results on test set (full data):')\n",
    "print('R2: ', round(score_r2,4))\n",
    "print('MAE: ', round(score_mae))"
   ]
  },
  {
   "cell_type": "code",
   "execution_count": 50,
   "id": "38dab5b5",
   "metadata": {
    "execution": {
     "iopub.execute_input": "2022-09-13T15:03:26.587817Z",
     "iopub.status.busy": "2022-09-13T15:03:26.587470Z",
     "iopub.status.idle": "2022-09-13T15:03:26.948086Z",
     "shell.execute_reply": "2022-09-13T15:03:26.947126Z"
    },
    "papermill": {
     "duration": 0.432552,
     "end_time": "2022-09-13T15:03:26.950168",
     "exception": false,
     "start_time": "2022-09-13T15:03:26.517616",
     "status": "completed"
    },
    "tags": []
   },
   "outputs": [
    {
     "data": {
      "image/png": "[encoded data removed]",
      "text/plain": [
       "<Figure size 576x576 with 1 Axes>"
      ]
     },
     "metadata": {},
     "output_type": "display_data"
    }
   ],
   "source": [
    "fig,ax = plt.subplots(figsize=(8,8))\n",
    "ax.set_title(\"price\",fontsize=16)\n",
    "ax.set_ylabel('Test Predicted price',fontsize=12)\n",
    "ax.set_xlabel('Test Actual price',fontsize=12)\n",
    "ax.scatter(y_Test,y_pred)\n",
    "\n",
    "score_r2 = r2_score(y_Test, y_pred) \n",
    "score_mae = mean_absolute_error(y_Test, y_pred)\n",
    "plt.text(70000,15000,'$ R^{2} $=' + str(round(score_r2, 4)), fontsize=16)\n",
    "plt.text(70000,10000,'MAE =' + str(round(score_mae)), fontsize=16)\n",
    "plt.show()"
   ]
  },
  {
   "cell_type": "markdown",
   "id": "a8eebb41",
   "metadata": {
    "papermill": {
     "duration": 0.068831,
     "end_time": "2022-09-13T15:03:27.087979",
     "exception": false,
     "start_time": "2022-09-13T15:03:27.019148",
     "status": "completed"
    },
    "tags": []
   },
   "source": [
    "### Conclusioni\n",
    "Con questo ultimo modello si è riusciti ad ottenere uno score migliore di tutti quelli precedenti sia dal punto di vista del coefficiente di determinazione che del mean absolute error, battendo quindi anche i modelli classici passando da un MAE di 1492 a 1262, ovvero circa il 18% in meno. Questo risultato è importante e si ritiene sia dovuto alla maggiore prestabilità delle reti (rispetto a modelli classici) a problemi dove vi sono molti samples a disposizione per fare learning.  \n",
    "Osservando il grafico Test Predicted price vs. Test Actual price del modello migliore e quello finale di (https://www.kaggle.com/code/julienjta/flight-price-prediction-98-47-r2-score) si vede anche come le predizioni siano meno sparse rispetto alla bisettrice."
   ]
  }
 ],
 "metadata": {
  "kernelspec": {
   "display_name": "Python 3",
   "language": "python",
   "name": "python3"
  },
  "language_info": {
   "codemirror_mode": {
    "name": "ipython",
    "version": 3
   },
   "file_extension": ".py",
   "mimetype": "text/x-python",
   "name": "python",
   "nbconvert_exporter": "python",
   "pygments_lexer": "ipython3",
   "version": "3.7.12"
  },
  "papermill": {
   "default_parameters": {},
   "duration": 303.601906,
   "end_time": "2022-09-13T15:03:30.579133",
   "environment_variables": {},
   "exception": null,
   "input_path": "__notebook__.ipynb",
   "output_path": "__notebook__.ipynb",
   "parameters": {},
   "start_time": "2022-09-13T14:58:26.977227",
   "version": "2.3.4"
  }
 },
 "nbformat": 4,
 "nbformat_minor": 5
}
